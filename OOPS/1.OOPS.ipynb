{
 "cells": [
  {
   "cell_type": "code",
   "execution_count": 1,
   "id": "b0cab309-9b5f-4860-a276-801fb2690564",
   "metadata": {},
   "outputs": [],
   "source": [
    "class test:\n",
    "    pass"
   ]
  },
  {
   "cell_type": "code",
   "execution_count": 2,
   "id": "70ff0cb7-6d61-4845-aed9-4227edcbc065",
   "metadata": {},
   "outputs": [],
   "source": [
    "a = test"
   ]
  },
  {
   "cell_type": "code",
   "execution_count": 4,
   "id": "db13311a-f846-4252-8da9-406f2918692f",
   "metadata": {},
   "outputs": [
    {
     "name": "stdout",
     "output_type": "stream",
     "text": [
      "<class 'type'>\n"
     ]
    }
   ],
   "source": [
    "print(type(a))"
   ]
  },
  {
   "cell_type": "code",
   "execution_count": 9,
   "id": "b10f85cf-bfbf-4264-8269-afe819572919",
   "metadata": {},
   "outputs": [],
   "source": [
    "class pwskills:\n",
    "    def welcome_msg(self):\n",
    "        print('welcome to pwskills')"
   ]
  },
  {
   "cell_type": "code",
   "execution_count": 10,
   "id": "d6db3187-7a47-4e92-982c-b841cbef8abc",
   "metadata": {},
   "outputs": [],
   "source": [
    "rohan = pwskills() # rohan belongs to pwskills class"
   ]
  },
  {
   "cell_type": "code",
   "execution_count": 11,
   "id": "c9187a0e-e4b1-46e4-9b74-6b7768fd04aa",
   "metadata": {},
   "outputs": [
    {
     "name": "stdout",
     "output_type": "stream",
     "text": [
      "welcome to pwskills\n"
     ]
    }
   ],
   "source": [
    "rohan.welcome_msg()"
   ]
  },
  {
   "cell_type": "markdown",
   "id": "ff229fc1-1db1-4917-ad23-71d7bfc3a78e",
   "metadata": {},
   "source": [
    "# self helps the class to understands ints fucntion and allows the object to use those function "
   ]
  },
  {
   "cell_type": "markdown",
   "id": "b9dc1fe2-b4b8-450c-83c8-c2c681efbd73",
   "metadata": {},
   "source": [
    "# constructor helps my calss to take a data"
   ]
  },
  {
   "cell_type": "code",
   "execution_count": 18,
   "id": "509510d5-a87e-441e-87b6-0b96f3e486bc",
   "metadata": {},
   "outputs": [],
   "source": [
    "class pwskills:\n",
    "    def __init__(self,reg_number, email_id,phone_number): #__init__ is the constructor\n",
    "        self.phone_number = phone_number\n",
    "        self.email_id = email_id\n",
    "        self.reg_number = reg_number \n",
    "    def return_student_details(self):\n",
    "        return self.reg_number,self.phone_number, self.email_id"
   ]
  },
  {
   "cell_type": "code",
   "execution_count": 19,
   "id": "106cc823-bb61-446e-bef3-2f95450f3383",
   "metadata": {},
   "outputs": [],
   "source": [
    "rohan = pwskills( 19,' eesha@gmail.com', 7501268904)"
   ]
  },
  {
   "cell_type": "code",
   "execution_count": 20,
   "id": "9101874a-1211-4708-aa90-e9d888a511cc",
   "metadata": {},
   "outputs": [
    {
     "data": {
      "text/plain": [
       "(19, 7501268904, ' eesha@gmail.com')"
      ]
     },
     "execution_count": 20,
     "metadata": {},
     "output_type": "execute_result"
    }
   ],
   "source": [
    "rohan.return_student_details()"
   ]
  },
  {
   "cell_type": "code",
   "execution_count": 21,
   "id": "66d16a13-1b23-4b5a-9e56-3ea55e5b3814",
   "metadata": {},
   "outputs": [
    {
     "data": {
      "text/plain": [
       "7501268904"
      ]
     },
     "execution_count": 21,
     "metadata": {},
     "output_type": "execute_result"
    }
   ],
   "source": [
    "rohan.phone_number"
   ]
  },
  {
   "cell_type": "code",
   "execution_count": 22,
   "id": "253a60d3-b687-4645-aa75-0875f8e425c6",
   "metadata": {},
   "outputs": [
    {
     "data": {
      "text/plain": [
       "' eesha@gmail.com'"
      ]
     },
     "execution_count": 22,
     "metadata": {},
     "output_type": "execute_result"
    }
   ],
   "source": [
    "rohan.email_id"
   ]
  },
  {
   "cell_type": "code",
   "execution_count": 23,
   "id": "04ec7cce-7eb4-44e9-87dc-1d23d9173e51",
   "metadata": {},
   "outputs": [
    {
     "data": {
      "text/plain": [
       "19"
      ]
     },
     "execution_count": 23,
     "metadata": {},
     "output_type": "execute_result"
    }
   ],
   "source": [
    "rohan.reg_number"
   ]
  },
  {
   "cell_type": "code",
   "execution_count": 24,
   "id": "84071183-a908-4d74-9c34-8c47ead37d12",
   "metadata": {},
   "outputs": [],
   "source": [
    "class pwskills1:\n",
    "    def __init__(eesha,reg_number, email_id,phone_number): #__init__ is the constructor.\n",
    "        eesha.phone_number = phone_number\n",
    "        eesha.email_id = email_id\n",
    "        eesha.reg_number = reg_number \n",
    "    def return_student_details(eesha):\n",
    "        return eesha.reg_number,eesha.phone_number, eesha.email_id"
   ]
  },
  {
   "cell_type": "code",
   "execution_count": 28,
   "id": "06470e62-c0eb-406e-8298-4387cf395779",
   "metadata": {},
   "outputs": [],
   "source": [
    "ravindran = pwskills1( 109 , 'eesha@gmail.com' , '9442821574')"
   ]
  },
  {
   "cell_type": "code",
   "execution_count": 29,
   "id": "1b902ad0-70d4-4459-9de1-69cbfadc0cd6",
   "metadata": {},
   "outputs": [
    {
     "data": {
      "text/plain": [
       "'9442821574'"
      ]
     },
     "execution_count": 29,
     "metadata": {},
     "output_type": "execute_result"
    }
   ],
   "source": [
    "ravindran.phone_number"
   ]
  },
  {
   "cell_type": "code",
   "execution_count": 30,
   "id": "7b98dc43-4e12-451e-8b7f-10883f5581fc",
   "metadata": {},
   "outputs": [
    {
     "data": {
      "text/plain": [
       "'eesha@gmail.com'"
      ]
     },
     "execution_count": 30,
     "metadata": {},
     "output_type": "execute_result"
    }
   ],
   "source": [
    "ravindran.email_id"
   ]
  },
  {
   "cell_type": "code",
   "execution_count": 1,
   "id": "bc3b5b63-80cb-492f-a0f2-467a8cd186d5",
   "metadata": {},
   "outputs": [],
   "source": [
    "class pwskills1:\n",
    "    def __init__(eesha,reg_number, email_id,phone_number):\n",
    "        eesha.phone_number = phone_number\n",
    "        eesha.email_id = email_id\n",
    "        eesha.reg_number = reg_number \n",
    "    def return_student_details(eesha):\n",
    "        return eesha.reg_number,eesha.phone_number, eesha.email_id"
   ]
  },
  {
   "cell_type": "code",
   "execution_count": 2,
   "id": "9655f351-9250-485b-b325-a94d033f309a",
   "metadata": {},
   "outputs": [],
   "source": [
    "sasikala = pwskills1(1009, 'eesha@gmail.com', 9501268904)"
   ]
  },
  {
   "cell_type": "code",
   "execution_count": 3,
   "id": "d99f8e42-b519-4b10-844f-3d99b9ab4b16",
   "metadata": {},
   "outputs": [
    {
     "data": {
      "text/plain": [
       "9501268904"
      ]
     },
     "execution_count": 3,
     "metadata": {},
     "output_type": "execute_result"
    }
   ],
   "source": [
    "sasikala.phone_number"
   ]
  },
  {
   "cell_type": "code",
   "execution_count": 4,
   "id": "82af4fff-51aa-4352-ba62-5265c129b4e2",
   "metadata": {},
   "outputs": [
    {
     "data": {
      "text/plain": [
       "(1009, 9501268904, 'eesha@gmail.com')"
      ]
     },
     "execution_count": 4,
     "metadata": {},
     "output_type": "execute_result"
    }
   ],
   "source": [
    "sasikala.return_student_details()"
   ]
  },
  {
   "cell_type": "code",
   "execution_count": null,
   "id": "128231c7-39a7-46eb-acec-da06d48d94d4",
   "metadata": {},
   "outputs": [],
   "source": []
  }
 ],
 "metadata": {
  "kernelspec": {
   "display_name": "Python 3 (ipykernel)",
   "language": "python",
   "name": "python3"
  },
  "language_info": {
   "codemirror_mode": {
    "name": "ipython",
    "version": 3
   },
   "file_extension": ".py",
   "mimetype": "text/x-python",
   "name": "python",
   "nbconvert_exporter": "python",
   "pygments_lexer": "ipython3",
   "version": "3.10.8"
  }
 },
 "nbformat": 4,
 "nbformat_minor": 5
}
