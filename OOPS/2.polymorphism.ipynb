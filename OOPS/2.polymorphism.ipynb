{
 "cells": [
  {
   "cell_type": "code",
   "execution_count": 1,
   "id": "aa3c5f3a-0fc6-4776-9b5c-abd7304da924",
   "metadata": {},
   "outputs": [],
   "source": [
    "class data_science:\n",
    "    def syllubus(self):\n",
    "        print('this is my method for data science syllubus')"
   ]
  },
  {
   "cell_type": "code",
   "execution_count": 2,
   "id": "178f2ed1-d45f-49d4-a62b-65d59664e9e2",
   "metadata": {},
   "outputs": [],
   "source": [
    "class web_dev:\n",
    "    def syllubus(self):\n",
    "        print('this is my method for web dev')"
   ]
  },
  {
   "cell_type": "code",
   "execution_count": 16,
   "id": "81a29b6c-fd29-4166-83d5-38ba5a1ee809",
   "metadata": {},
   "outputs": [],
   "source": [
    "def calss_parcer(class_obj):\n",
    "    for i in class_obj:\n",
    "        i.syllubus()"
   ]
  },
  {
   "cell_type": "code",
   "execution_count": 10,
   "id": "4268ae25-941d-4b21-8026-6a864cc4e8c3",
   "metadata": {},
   "outputs": [],
   "source": [
    "obj_data_sci = data_science()"
   ]
  },
  {
   "cell_type": "code",
   "execution_count": 11,
   "id": "932365cf-8569-4522-a957-b818411bc66b",
   "metadata": {},
   "outputs": [],
   "source": [
    "obj_web_dev = web_dev()"
   ]
  },
  {
   "cell_type": "code",
   "execution_count": 13,
   "id": "a2d1463b-4324-4824-b605-f46a1a506cf5",
   "metadata": {},
   "outputs": [],
   "source": [
    "class_obj  = [ obj_data_sci , obj_web_dev]"
   ]
  },
  {
   "cell_type": "code",
   "execution_count": 17,
   "id": "7938b4b7-effc-44e2-8e0f-64f229e106fb",
   "metadata": {},
   "outputs": [
    {
     "name": "stdout",
     "output_type": "stream",
     "text": [
      "this is my method for data science syllubus\n",
      "this is my method for web dev\n"
     ]
    }
   ],
   "source": [
    "calss_parcer(class_obj)"
   ]
  },
  {
   "cell_type": "markdown",
   "id": "2f16a1ea-25d1-4eb1-995b-b9eec54e2f86",
   "metadata": {},
   "source": [
    "# Polymorphism allows us to create a function which behaves different for different classes and its objects\n"
   ]
  }
 ],
 "metadata": {
  "kernelspec": {
   "display_name": "Python 3 (ipykernel)",
   "language": "python",
   "name": "python3"
  },
  "language_info": {
   "codemirror_mode": {
    "name": "ipython",
    "version": 3
   },
   "file_extension": ".py",
   "mimetype": "text/x-python",
   "name": "python",
   "nbconvert_exporter": "python",
   "pygments_lexer": "ipython3",
   "version": "3.10.8"
  }
 },
 "nbformat": 4,
 "nbformat_minor": 5
}
