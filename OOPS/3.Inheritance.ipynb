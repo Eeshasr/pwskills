{
 "cells": [
  {
   "cell_type": "code",
   "execution_count": 2,
   "id": "54db26d9-eb6a-489a-a2ec-af5132b04900",
   "metadata": {},
   "outputs": [],
   "source": [
    "class parent:\n",
    "    \n",
    "    def test_parent(self):\n",
    "        print('this is mh parent class')"
   ]
  },
  {
   "cell_type": "code",
   "execution_count": 3,
   "id": "c4ce8ea1-b884-496f-8d97-6cd2f24e1369",
   "metadata": {},
   "outputs": [],
   "source": [
    "class child(parent):\n",
    "    pass\n"
   ]
  },
  {
   "cell_type": "code",
   "execution_count": 4,
   "id": "dacd81dd-7bbe-494b-af73-9bf0c0cc2994",
   "metadata": {},
   "outputs": [],
   "source": [
    "child_obj = child()"
   ]
  },
  {
   "cell_type": "code",
   "execution_count": 5,
   "id": "0ff03b65-29b8-46dc-b69a-dbe0567d2724",
   "metadata": {},
   "outputs": [
    {
     "name": "stdout",
     "output_type": "stream",
     "text": [
      "this is mh parent class\n"
     ]
    }
   ],
   "source": [
    "child_obj.test_parent()"
   ]
  },
  {
   "cell_type": "code",
   "execution_count": 6,
   "id": "40c57ac3-d6c9-41b6-ae9a-3df2cf01e75e",
   "metadata": {},
   "outputs": [],
   "source": [
    "class car:\n",
    "    def __init__(self, windows , doors, enginetype):\n",
    "        self.windows = windows \n",
    "        self.doors = doors\n",
    "        self.enginetype = enginetype\n",
    "    def driving(self):\n",
    "        print('car is used for driving')\n",
    "        \n",
    "class  Audi(car): # Audi car is inheriting from car class\n",
    "    def __init__( self, windows , doors , enginetype , horse_power):\n",
    "        super().__init__(windows,doors,enginetype) # allows us get those data from car class\n",
    "        self.horse_power = horse_power\n",
    "    def selfdriving(self):\n",
    "        print('it is a self driving car')\n",
    "        "
   ]
  },
  {
   "cell_type": "code",
   "execution_count": 7,
   "id": "4f8c0827-e3e4-480b-adf1-a709d63387b1",
   "metadata": {},
   "outputs": [],
   "source": [
    "audi_Q7 = Audi(4,5,'Diesel',200)"
   ]
  },
  {
   "cell_type": "code",
   "execution_count": 8,
   "id": "c8aa3996-c19f-4978-a733-fdee553abf0b",
   "metadata": {},
   "outputs": [
    {
     "data": {
      "text/plain": [
       "4"
      ]
     },
     "execution_count": 8,
     "metadata": {},
     "output_type": "execute_result"
    }
   ],
   "source": [
    "audi_Q7.windows"
   ]
  },
  {
   "cell_type": "code",
   "execution_count": 9,
   "id": "f1d6eaa4-e880-4ea3-b053-35ce3cd192ec",
   "metadata": {},
   "outputs": [
    {
     "name": "stdout",
     "output_type": "stream",
     "text": [
      "car is used for driving\n"
     ]
    }
   ],
   "source": [
    "audi_Q7.driving()"
   ]
  },
  {
   "cell_type": "code",
   "execution_count": 10,
   "id": "5af9183b-6bd3-456d-88f7-13c2087f3c60",
   "metadata": {},
   "outputs": [
    {
     "name": "stdout",
     "output_type": "stream",
     "text": [
      "it is a self driving car\n"
     ]
    }
   ],
   "source": [
    "audi_Q7.selfdriving()"
   ]
  },
  {
   "cell_type": "code",
   "execution_count": 12,
   "id": "dc48b0b3-8711-481d-b1d8-33db24c71893",
   "metadata": {},
   "outputs": [
    {
     "name": "stdout",
     "output_type": "stream",
     "text": [
      "['__class__', '__delattr__', '__dict__', '__dir__', '__doc__', '__eq__', '__format__', '__ge__', '__getattribute__', '__gt__', '__hash__', '__init__', '__init_subclass__', '__le__', '__lt__', '__module__', '__ne__', '__new__', '__reduce__', '__reduce_ex__', '__repr__', '__setattr__', '__sizeof__', '__str__', '__subclasshook__', '__weakref__', 'doors', 'driving', 'enginetype', 'horse_power', 'selfdriving', 'windows']\n"
     ]
    }
   ],
   "source": [
    "print(dir(audi_Q7))"
   ]
  },
  {
   "cell_type": "markdown",
   "id": "d689644c-6084-421f-8eba-db08a11134e4",
   "metadata": {},
   "source": [
    "multilabel inheritance\n"
   ]
  },
  {
   "cell_type": "code",
   "execution_count": 6,
   "id": "19cb89a5-987e-47b7-a792-82caec14b269",
   "metadata": {},
   "outputs": [],
   "source": [
    "class class1:\n",
    "    def test_class1(self):\n",
    "        print('this is my class1')"
   ]
  },
  {
   "cell_type": "code",
   "execution_count": 7,
   "id": "506ae685-ec86-406c-913d-da2a4751b8b9",
   "metadata": {},
   "outputs": [],
   "source": [
    "class class2(class1):\n",
    "    def test_calss2(self):\n",
    "        print('this is my class2')"
   ]
  },
  {
   "cell_type": "code",
   "execution_count": 8,
   "id": "17e29561-e1c8-42ed-80fa-03e82a7b49cb",
   "metadata": {},
   "outputs": [],
   "source": [
    "class class3(class2):\n",
    "    def test_calss3(self):\n",
    "        print('this is my class3')"
   ]
  },
  {
   "cell_type": "code",
   "execution_count": 9,
   "id": "7a3f080c-eb1f-4f8f-8457-12d0c56856a6",
   "metadata": {},
   "outputs": [],
   "source": [
    "class_obj = class3()"
   ]
  },
  {
   "cell_type": "code",
   "execution_count": 10,
   "id": "a9c46d80-76bb-4f88-99f7-9cb1a898f3e7",
   "metadata": {},
   "outputs": [
    {
     "name": "stdout",
     "output_type": "stream",
     "text": [
      "this is my class1\n"
     ]
    }
   ],
   "source": [
    "class_obj.test_class1()"
   ]
  },
  {
   "cell_type": "code",
   "execution_count": 11,
   "id": "a3d17cf6-410a-42e8-ab54-14a11d694652",
   "metadata": {},
   "outputs": [
    {
     "name": "stdout",
     "output_type": "stream",
     "text": [
      "this is my class2\n"
     ]
    }
   ],
   "source": [
    "class3().test_calss2()"
   ]
  },
  {
   "cell_type": "code",
   "execution_count": 12,
   "id": "b94dcab8-8cf1-4697-8e06-4f902f2bac34",
   "metadata": {},
   "outputs": [
    {
     "name": "stdout",
     "output_type": "stream",
     "text": [
      "this is my class3\n"
     ]
    }
   ],
   "source": [
    "class3().test_calss3()"
   ]
  },
  {
   "cell_type": "code",
   "execution_count": 13,
   "id": "4f30343b-1309-4ad1-90c9-d7d776b0e91a",
   "metadata": {},
   "outputs": [
    {
     "name": "stdout",
     "output_type": "stream",
     "text": [
      "this is my class1\n"
     ]
    }
   ],
   "source": [
    "class2().test_class1()"
   ]
  },
  {
   "cell_type": "code",
   "execution_count": 16,
   "id": "7a6f92aa-68ce-462e-be01-b83aa537d107",
   "metadata": {},
   "outputs": [
    {
     "name": "stdout",
     "output_type": "stream",
     "text": [
      "this is my class2\n"
     ]
    }
   ],
   "source": [
    "class2().test_calss2()"
   ]
  },
  {
   "cell_type": "code",
   "execution_count": 17,
   "id": "86f92b22-795f-4715-af57-a9d65e8b4595",
   "metadata": {},
   "outputs": [
    {
     "name": "stdout",
     "output_type": "stream",
     "text": [
      "this is my class1\n"
     ]
    }
   ],
   "source": [
    "class1().test_class1()"
   ]
  },
  {
   "cell_type": "markdown",
   "id": "bf7a9438-7ccd-4158-ac95-9cad9f25cced",
   "metadata": {},
   "source": [
    "multiple inheritance"
   ]
  },
  {
   "cell_type": "code",
   "execution_count": 1,
   "id": "169fb386-49ea-43c2-9377-823a07d5aad9",
   "metadata": {},
   "outputs": [],
   "source": [
    "class class1:\n",
    "    def test_class1(self):\n",
    "        print('this is my class1')"
   ]
  },
  {
   "cell_type": "code",
   "execution_count": 6,
   "id": "7dc19674-3f8c-4abd-9c48-8624e8500e89",
   "metadata": {},
   "outputs": [],
   "source": [
    "class class2:\n",
    "    def test_class2(self):\n",
    "        print('this is my class2')"
   ]
  },
  {
   "cell_type": "code",
   "execution_count": 7,
   "id": "adccadce-fe91-4f4a-8c4f-338a41589105",
   "metadata": {},
   "outputs": [],
   "source": [
    "class class3(class1,class2):\n",
    "    def test_class3(self):\n",
    "        print('this is my class3')"
   ]
  },
  {
   "cell_type": "code",
   "execution_count": 8,
   "id": "4de61937-dfae-4d6a-91fb-002162614b47",
   "metadata": {},
   "outputs": [
    {
     "name": "stdout",
     "output_type": "stream",
     "text": [
      "this is my class1\n"
     ]
    }
   ],
   "source": [
    "class3().test_class1()"
   ]
  },
  {
   "cell_type": "code",
   "execution_count": 13,
   "id": "db42fdcd-b3c8-4019-8a60-03ac8369f7d3",
   "metadata": {},
   "outputs": [
    {
     "name": "stdout",
     "output_type": "stream",
     "text": [
      "this is my class2\n"
     ]
    }
   ],
   "source": [
    "class3().test_class2()"
   ]
  },
  {
   "cell_type": "code",
   "execution_count": 11,
   "id": "29cdcfbb-4b97-48cb-a896-a5aea33a7b2f",
   "metadata": {},
   "outputs": [
    {
     "name": "stdout",
     "output_type": "stream",
     "text": [
      "this is my class3\n"
     ]
    }
   ],
   "source": [
    "class3().test_class3()"
   ]
  },
  {
   "cell_type": "code",
   "execution_count": 15,
   "id": "7591608d-0412-427b-9cc7-808fe21dd0e3",
   "metadata": {},
   "outputs": [
    {
     "name": "stdout",
     "output_type": "stream",
     "text": [
      "this is my class1\n"
     ]
    }
   ],
   "source": [
    "class1().test_class1()"
   ]
  },
  {
   "cell_type": "code",
   "execution_count": 16,
   "id": "e6b4c849-59c0-49ea-9daa-15bd5779f8f7",
   "metadata": {},
   "outputs": [
    {
     "name": "stdout",
     "output_type": "stream",
     "text": [
      "this is my class2\n"
     ]
    }
   ],
   "source": [
    "class2().test_class2()"
   ]
  },
  {
   "cell_type": "markdown",
   "id": "0ca43606-5374-4960-a622-38e43945d67d",
   "metadata": {},
   "source": [
    "when a class inhertis from 2 different independent class. class 3 can acess both function of class 1 and two which are inheritance."
   ]
  },
  {
   "cell_type": "markdown",
   "id": "3be4d384-3664-435c-bdc8-966eb8a88330",
   "metadata": {},
   "source": [
    "# Private Protected and Public Variables of a class"
   ]
  },
  {
   "cell_type": "code",
   "execution_count": 32,
   "id": "d4a9d4be-584e-4165-bb18-cd254c227186",
   "metadata": {},
   "outputs": [],
   "source": [
    "class car1:\n",
    "    def __init__(self, windows , doors, enginetype):\n",
    "        self.windows = windows  # Public varibale\n",
    "        self._doors = doors # Protected varible \n",
    "        self.__enginetype = enginetype # Private varible\n",
    "    def driving(self):\n",
    "        print('car is used for driving')"
   ]
  },
  {
   "cell_type": "code",
   "execution_count": 22,
   "id": "84d4ebf5-face-4321-820c-fb912621b422",
   "metadata": {},
   "outputs": [],
   "source": [
    " audi = car( 4, 5, 'diesel')"
   ]
  },
  {
   "cell_type": "code",
   "execution_count": 28,
   "id": "9a388eec-0910-4cd0-b0e8-5cdb1eaf6241",
   "metadata": {},
   "outputs": [
    {
     "name": "stdout",
     "output_type": "stream",
     "text": [
      "['__class__', '__delattr__', '__dict__', '__dir__', '__doc__', '__eq__', '__format__', '__ge__', '__getattribute__', '__gt__', '__hash__', '__init__', '__init_subclass__', '__le__', '__lt__', '__module__', '__ne__', '__new__', '__reduce__', '__reduce_ex__', '__repr__', '__setattr__', '__sizeof__', '__str__', '__subclasshook__', '__weakref__', '_car__enginetype', '_doors', 'driving', 'windows']\n"
     ]
    }
   ],
   "source": [
    "print(dir(audi))"
   ]
  },
  {
   "cell_type": "code",
   "execution_count": 24,
   "id": "47c48fa4-dbd3-41fd-9f0d-3d6d3ca5387c",
   "metadata": {},
   "outputs": [],
   "source": [
    "# the over riding functionaltiy will be only in the chlid class"
   ]
  },
  {
   "cell_type": "code",
   "execution_count": 33,
   "id": "a6a87591-059c-43fc-a173-84b5eb1b4cd0",
   "metadata": {},
   "outputs": [],
   "source": [
    "class  Audi(car1): # Audi car is inheriting from car class\n",
    "    def __init__( self, windows , doors , enginetype , horse_power):\n",
    "        super().__init__(windows,doors,enginetype) # allows us get those data from car class\n",
    "        self.horse_power = horse_power\n",
    "    def selfdriving(self):\n",
    "        print('it is a self driving car')"
   ]
  },
  {
   "cell_type": "code",
   "execution_count": 34,
   "id": "375c6e01-9d3e-48d2-b00f-92be9b5d5bdf",
   "metadata": {},
   "outputs": [],
   "source": [
    "Audi_Q7 = Audi( 4,5,'Diesel' , 1000)"
   ]
  },
  {
   "cell_type": "code",
   "execution_count": 35,
   "id": "45716952-bebb-4834-a814-21b8a47280b4",
   "metadata": {},
   "outputs": [
    {
     "data": {
      "text/plain": [
       "['__class__',\n",
       " '__delattr__',\n",
       " '__dict__',\n",
       " '__dir__',\n",
       " '__doc__',\n",
       " '__eq__',\n",
       " '__format__',\n",
       " '__ge__',\n",
       " '__getattribute__',\n",
       " '__gt__',\n",
       " '__hash__',\n",
       " '__init__',\n",
       " '__init_subclass__',\n",
       " '__le__',\n",
       " '__lt__',\n",
       " '__module__',\n",
       " '__ne__',\n",
       " '__new__',\n",
       " '__reduce__',\n",
       " '__reduce_ex__',\n",
       " '__repr__',\n",
       " '__setattr__',\n",
       " '__sizeof__',\n",
       " '__str__',\n",
       " '__subclasshook__',\n",
       " '__weakref__',\n",
       " '_car1__enginetype',\n",
       " '_doors',\n",
       " 'driving',\n",
       " 'horse_power',\n",
       " 'selfdriving',\n",
       " 'windows']"
      ]
     },
     "execution_count": 35,
     "metadata": {},
     "output_type": "execute_result"
    }
   ],
   "source": [
    "dir(Audi_Q7)"
   ]
  },
  {
   "cell_type": "code",
   "execution_count": 36,
   "id": "a7790768-453a-4464-b10a-9b27884a2b5b",
   "metadata": {},
   "outputs": [],
   "source": [
    "Audi_Q7._doors = 4"
   ]
  },
  {
   "cell_type": "code",
   "execution_count": 37,
   "id": "a9fc8770-8abd-486b-aedb-a7a56d7da5fc",
   "metadata": {},
   "outputs": [
    {
     "data": {
      "text/plain": [
       "4"
      ]
     },
     "execution_count": 37,
     "metadata": {},
     "output_type": "execute_result"
    }
   ],
   "source": [
    "Audi_Q7._doors"
   ]
  },
  {
   "cell_type": "code",
   "execution_count": null,
   "id": "82e3f499-1e71-4e03-95c5-181c0fc07989",
   "metadata": {},
   "outputs": [],
   "source": [
    "Audi_Q7"
   ]
  },
  {
   "cell_type": "markdown",
   "id": "19b5f06e-3484-4cf4-879b-dd1dae177a3b",
   "metadata": {},
   "source": [
    "# Private Variable cannot accessed from any where else \n",
    "\n",
    "# Public Varibles can be accessed from any wwhere \n",
    "\n",
    "# Protected can be accessed only through child class or its object"
   ]
  },
  {
   "cell_type": "code",
   "execution_count": null,
   "id": "d4f07ed7-c4f6-445b-bc12-faabe0d05c36",
   "metadata": {},
   "outputs": [],
   "source": [
    "Audi_Q7.   # while pressing tab we cannot see engine type option avalible"
   ]
  },
  {
   "cell_type": "code",
   "execution_count": 39,
   "id": "4adce83d-490e-4915-9c70-9c14b262e6f8",
   "metadata": {},
   "outputs": [
    {
     "data": {
      "text/plain": [
       "'Diesel'"
      ]
     },
     "execution_count": 39,
     "metadata": {},
     "output_type": "execute_result"
    }
   ],
   "source": [
    "Audi_Q7._car1__enginetype"
   ]
  },
  {
   "cell_type": "code",
   "execution_count": null,
   "id": "d56be71d-5f6c-4111-96f9-eda81a4cde88",
   "metadata": {},
   "outputs": [],
   "source": []
  }
 ],
 "metadata": {
  "kernelspec": {
   "display_name": "Python 3 (ipykernel)",
   "language": "python",
   "name": "python3"
  },
  "language_info": {
   "codemirror_mode": {
    "name": "ipython",
    "version": 3
   },
   "file_extension": ".py",
   "mimetype": "text/x-python",
   "name": "python",
   "nbconvert_exporter": "python",
   "pygments_lexer": "ipython3",
   "version": "3.10.8"
  }
 },
 "nbformat": 4,
 "nbformat_minor": 5
}
