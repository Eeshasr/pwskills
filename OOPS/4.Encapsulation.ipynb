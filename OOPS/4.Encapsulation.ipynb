{
 "cells": [
  {
   "cell_type": "code",
   "execution_count": 1,
   "id": "8dbd149d-ceb8-4dad-9b73-c56a77f8f561",
   "metadata": {},
   "outputs": [],
   "source": [
    "class test:\n",
    "    def __init__(self,a,b):  #it is a constructor used to pass data inside the calss\n",
    "        self.a = a\n",
    "        self.b = b"
   ]
  },
  {
   "cell_type": "code",
   "execution_count": 2,
   "id": "20407919-7434-47e7-b4ca-5a94f4ccdf69",
   "metadata": {},
   "outputs": [],
   "source": [
    "t = test(45,56)"
   ]
  },
  {
   "cell_type": "code",
   "execution_count": 3,
   "id": "60bc339f-e6fb-4067-adf5-44aa654c7897",
   "metadata": {},
   "outputs": [
    {
     "data": {
      "text/plain": [
       "45"
      ]
     },
     "execution_count": 3,
     "metadata": {},
     "output_type": "execute_result"
    }
   ],
   "source": [
    "t.a "
   ]
  },
  {
   "cell_type": "code",
   "execution_count": 4,
   "id": "b574e140-b5be-4859-a18b-9c2067f9a2df",
   "metadata": {},
   "outputs": [
    {
     "data": {
      "text/plain": [
       "56"
      ]
     },
     "execution_count": 4,
     "metadata": {},
     "output_type": "execute_result"
    }
   ],
   "source": [
    "t.b"
   ]
  },
  {
   "cell_type": "code",
   "execution_count": 5,
   "id": "d6caf0fd-c0a1-4218-8bd4-eff6d6c90fee",
   "metadata": {},
   "outputs": [],
   "source": [
    "t.a= 35"
   ]
  },
  {
   "cell_type": "code",
   "execution_count": 6,
   "id": "49cd3d98-8c43-4987-90dd-1bca5f80e6d9",
   "metadata": {},
   "outputs": [
    {
     "data": {
      "text/plain": [
       "35"
      ]
     },
     "execution_count": 6,
     "metadata": {},
     "output_type": "execute_result"
    }
   ],
   "source": [
    "t.a"
   ]
  },
  {
   "cell_type": "markdown",
   "id": "2e6d7cb5-66ae-4248-9f4c-c5eb9734b8e3",
   "metadata": {},
   "source": [
    "# encapulation is an idea that provied us saftey from a direct acces to the data of a calss for outside worls."
   ]
  },
  {
   "cell_type": "code",
   "execution_count": 1,
   "id": "2b190732-99e0-452a-809e-cd30ca684f58",
   "metadata": {},
   "outputs": [],
   "source": [
    "class car:\n",
    "    def __init__(self, year,make,model,speed):\n",
    "        self.__year = year # this make year a private \n",
    "        self.__make = make # we cannot use private varible through object\n",
    "        self.__model = model\n",
    "        self.__speed = 0\n",
    "    "
   ]
  },
  {
   "cell_type": "code",
   "execution_count": 19,
   "id": "6ea4a2e9-82c1-4512-a811-ad1cdbf69549",
   "metadata": {},
   "outputs": [],
   "source": [
    "obj_car = car( 2021, 'toyato' , 'innova', 12)"
   ]
  },
  {
   "cell_type": "code",
   "execution_count": null,
   "id": "af31cbfe-11dc-4261-9d2c-92c398a265b6",
   "metadata": {},
   "outputs": [],
   "source": [
    "obj_car. # by pressing the tab we can understand that no options for the obejects of the calss are giving making them private variable of the calss "
   ]
  },
  {
   "cell_type": "markdown",
   "id": "7f616e86-d327-44f2-8caf-b5e7c799de1b",
   "metadata": {},
   "source": [
    "# by pressing the tab we can understand that no options for the obejects of the calss are giving making them private variable of the calss "
   ]
  },
  {
   "cell_type": "code",
   "execution_count": 3,
   "id": "2fb26fdc-b3ab-4134-9fec-c39ac15a8630",
   "metadata": {},
   "outputs": [],
   "source": [
    "obj_car = car(2021, 'toyota', 'innova',12)"
   ]
  },
  {
   "cell_type": "code",
   "execution_count": 4,
   "id": "5774b9f4-cc29-44c3-b9e0-6dc8b4df034f",
   "metadata": {},
   "outputs": [
    {
     "ename": "AttributeError",
     "evalue": "type object 'car' has no attribute '__year'",
     "output_type": "error",
     "traceback": [
      "\u001b[0;31m---------------------------------------------------------------------------\u001b[0m",
      "\u001b[0;31mAttributeError\u001b[0m                            Traceback (most recent call last)",
      "Cell \u001b[0;32mIn[4], line 1\u001b[0m\n\u001b[0;32m----> 1\u001b[0m \u001b[43mcar\u001b[49m\u001b[38;5;241;43m.\u001b[39;49m\u001b[43m__year\u001b[49m\n",
      "\u001b[0;31mAttributeError\u001b[0m: type object 'car' has no attribute '__year'"
     ]
    }
   ],
   "source": [
    "car.__year"
   ]
  },
  {
   "cell_type": "code",
   "execution_count": 5,
   "id": "4641f374-1ca5-451d-a921-154f357e94b5",
   "metadata": {},
   "outputs": [
    {
     "data": {
      "text/plain": [
       "2021"
      ]
     },
     "execution_count": 5,
     "metadata": {},
     "output_type": "execute_result"
    }
   ],
   "source": [
    "obj_car._car__year"
   ]
  },
  {
   "cell_type": "code",
   "execution_count": 6,
   "id": "21188737-fe9b-45d7-b16b-f0c03ada02ce",
   "metadata": {},
   "outputs": [],
   "source": [
    "obj_car._car__year = 2023  # only as a creator i can change the info"
   ]
  },
  {
   "cell_type": "code",
   "execution_count": 7,
   "id": "754b0f2f-5eb2-4b84-8dd0-a994b5bb50ac",
   "metadata": {},
   "outputs": [
    {
     "data": {
      "text/plain": [
       "2023"
      ]
     },
     "execution_count": 7,
     "metadata": {},
     "output_type": "execute_result"
    }
   ],
   "source": [
    "obj_car._car__year"
   ]
  },
  {
   "cell_type": "code",
   "execution_count": 8,
   "id": "3faf8e78-e79a-495f-83e4-23b8e5e796ef",
   "metadata": {},
   "outputs": [],
   "source": [
    "class car:\n",
    "    def __init__(self, year,make,model,speed):\n",
    "        self.__year = year\n",
    "        self.__make = make\n",
    "        self.__model = model\n",
    "        self.__speed = 0\n",
    "        \n",
    "\n",
    "    def set_speed( self, speed):\n",
    "        self.__speed = 0 if speed < 0 else speed"
   ]
  },
  {
   "cell_type": "code",
   "execution_count": 9,
   "id": "5e008ca5-a823-4a2f-af99-a9470c6a1eb3",
   "metadata": {},
   "outputs": [],
   "source": [
    " obj_car.set_speed = 200"
   ]
  },
  {
   "cell_type": "code",
   "execution_count": 10,
   "id": "38f3f649-82b2-4cf3-8bfe-64ca981e8506",
   "metadata": {},
   "outputs": [
    {
     "data": {
      "text/plain": [
       "200"
      ]
     },
     "execution_count": 10,
     "metadata": {},
     "output_type": "execute_result"
    }
   ],
   "source": [
    "obj_car.set_speed"
   ]
  },
  {
   "cell_type": "code",
   "execution_count": 17,
   "id": "be8b7b98-7c4a-4e3d-817c-ab77a9816284",
   "metadata": {},
   "outputs": [],
   "source": [
    "class car:\n",
    "    def __init__(self, year,make,model,speed):\n",
    "        self.__year = year\n",
    "        self.__make = make\n",
    "        self.__model = model\n",
    "        self.__speed = 0\n",
    "        \n",
    "\n",
    "    def set_speed( self, speed):  # this is a public method (function) allows the user to acess the varibale\n",
    "        self.__speed = 0 if speed < 0 else speed\n",
    "        \n",
    "    def get_speed(self):\n",
    "        return self.__speed\n",
    "        "
   ]
  },
  {
   "cell_type": "code",
   "execution_count": 24,
   "id": "e9d2361b-c0ac-4e89-bace-761602d499fb",
   "metadata": {},
   "outputs": [],
   "source": [
    " obj_car.set_speed(200)"
   ]
  },
  {
   "cell_type": "code",
   "execution_count": 25,
   "id": "7de8648d-31ba-4a2a-9689-62b99532d798",
   "metadata": {},
   "outputs": [
    {
     "data": {
      "text/plain": [
       "200"
      ]
     },
     "execution_count": 25,
     "metadata": {},
     "output_type": "execute_result"
    }
   ],
   "source": [
    "obj_car.get_speed()"
   ]
  },
  {
   "cell_type": "code",
   "execution_count": 46,
   "id": "d0d10dce-ebe7-49f1-924c-2c02114294c5",
   "metadata": {},
   "outputs": [],
   "source": [
    "class bank_account:\n",
    "    def __init__(self,balance): # constructor\n",
    "        self.__balance = balance \n",
    "    def deposit(self, amount): # methods of the class (functions)\n",
    "        self.__balance = self.__balance+ amount\n",
    "        return 'Your current balance is', self.__balance\n",
    "    def withdraw(self, amount):\n",
    "        if self.__balance > amount:\n",
    "            self.__balance = self.__balance - amount\n",
    "            return 'Your current balance is', self.__balance\n",
    "        else:\n",
    "            return  'Insufficient balance'\n",
    "        \n",
    "    def get_balance(self):\n",
    "        return self.__balance\n",
    "        \n",
    "        "
   ]
  },
  {
   "cell_type": "code",
   "execution_count": 47,
   "id": "089cc209-fe6a-4b4c-abee-0cefdab85c46",
   "metadata": {},
   "outputs": [],
   "source": [
    "obj_bank_account = bank_account(2000)"
   ]
  },
  {
   "cell_type": "code",
   "execution_count": 48,
   "id": "c964155b-cbd1-4c2b-aa9a-a4b35a5dffdf",
   "metadata": {},
   "outputs": [
    {
     "data": {
      "text/plain": [
       "2000"
      ]
     },
     "execution_count": 48,
     "metadata": {},
     "output_type": "execute_result"
    }
   ],
   "source": [
    "obj_bank_account.get_balance()"
   ]
  },
  {
   "cell_type": "code",
   "execution_count": 49,
   "id": "61923741-54dd-44c5-b870-7a9b2ce414f0",
   "metadata": {},
   "outputs": [
    {
     "data": {
      "text/plain": [
       "('Your current balance is', 10000)"
      ]
     },
     "execution_count": 49,
     "metadata": {},
     "output_type": "execute_result"
    }
   ],
   "source": [
    "obj_bank_account.deposit(8000)"
   ]
  },
  {
   "cell_type": "code",
   "execution_count": 51,
   "id": "d65c51ae-e424-4e2b-8496-7024a0f8d2c0",
   "metadata": {},
   "outputs": [
    {
     "data": {
      "text/plain": [
       "('Your current balance is', 8000)"
      ]
     },
     "execution_count": 51,
     "metadata": {},
     "output_type": "execute_result"
    }
   ],
   "source": [
    "obj_bank_account.withdraw(2000)"
   ]
  },
  {
   "cell_type": "code",
   "execution_count": 52,
   "id": "a5df06e7-a0fb-49dc-97cd-4c0fdbc84803",
   "metadata": {},
   "outputs": [
    {
     "data": {
      "text/plain": [
       "'Insufficient balance'"
      ]
     },
     "execution_count": 52,
     "metadata": {},
     "output_type": "execute_result"
    }
   ],
   "source": [
    "obj_bank_account.withdraw(12000)"
   ]
  },
  {
   "cell_type": "code",
   "execution_count": 53,
   "id": "8b3ce4b8-5d81-49ef-8124-4a75cdd77e8b",
   "metadata": {},
   "outputs": [
    {
     "data": {
      "text/plain": [
       "8000"
      ]
     },
     "execution_count": 53,
     "metadata": {},
     "output_type": "execute_result"
    }
   ],
   "source": [
    "obj_bank_account.get_balance()"
   ]
  },
  {
   "cell_type": "code",
   "execution_count": null,
   "id": "bb5b6c0f-f5e7-4977-aa08-064100e9345f",
   "metadata": {},
   "outputs": [],
   "source": []
  }
 ],
 "metadata": {
  "kernelspec": {
   "display_name": "Python 3 (ipykernel)",
   "language": "python",
   "name": "python3"
  },
  "language_info": {
   "codemirror_mode": {
    "name": "ipython",
    "version": 3
   },
   "file_extension": ".py",
   "mimetype": "text/x-python",
   "name": "python",
   "nbconvert_exporter": "python",
   "pygments_lexer": "ipython3",
   "version": "3.10.8"
  }
 },
 "nbformat": 4,
 "nbformat_minor": 5
}
