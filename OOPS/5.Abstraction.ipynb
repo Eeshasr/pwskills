{
 "cells": [
  {
   "cell_type": "code",
   "execution_count": 1,
   "id": "8b17fb39-3838-42d5-8a97-b3cba7f6829d",
   "metadata": {},
   "outputs": [],
   "source": [
    "class pwskills:\n",
    "    \n",
    "    def student_details(self):\n",
    "        pass\n",
    "    def student_assignment(self):\n",
    "        pass\n",
    "    def studetn_marke(self):\n",
    "        pass"
   ]
  },
  {
   "cell_type": "markdown",
   "id": "6c1ee48a-34b7-4090-a567-7c50be501497",
   "metadata": {},
   "source": [
    "abstract class is nothing but a outline or skeletion or blue print for a perticular class"
   ]
  },
  {
   "cell_type": "code",
   "execution_count": 3,
   "id": "a4d6864b-3ceb-4f1a-bfe4-e3bb88a77d95",
   "metadata": {},
   "outputs": [],
   "source": [
    "# converting into abstract class\n",
    "import abc # helps u to convert into abstract class\n",
    "\n",
    "\n",
    "class pwskills:\n",
    "    @abc.abstractmethod # makes the method as abstract method\n",
    "    def student_details(self):\n",
    "        pass\n",
    "    @abc.abstractmethod\n",
    "    def student_assignment(self):\n",
    "        pass\n",
    "    @abc.abstractmethod\n",
    "    def studetn_marks(self):\n",
    "        pass"
   ]
  },
  {
   "cell_type": "code",
   "execution_count": 5,
   "id": "2069b5a6-f8c3-46ec-802e-a7d86ae78dbe",
   "metadata": {},
   "outputs": [],
   "source": [
    "class data_science(pwskills):\n",
    "    def student_details(self): # these functions are already inhertited from pwskills skeleton\n",
    "        return ' it will train to return details of students from data science masters'\n",
    "    def student_assignment(self):\n",
    "        return ' it will train to return details of assignment of students  from data science masters'"
   ]
  },
  {
   "cell_type": "code",
   "execution_count": 6,
   "id": "cc9787b8-a2f4-408e-857f-e446a54a5544",
   "metadata": {},
   "outputs": [],
   "source": [
    "class web_dev(pwskills):\n",
    "    def student_details(self):\n",
    "        return ' it will train to return details of students from web dev masters'\n",
    "    def student_marks(self):\n",
    "        return ' it will train to return details of assignment of students from web dev masters'"
   ]
  },
  {
   "cell_type": "code",
   "execution_count": 7,
   "id": "e6f84cc3-5f93-4789-8403-f0ad87811a2f",
   "metadata": {},
   "outputs": [],
   "source": [
    "ds = data_science()"
   ]
  },
  {
   "cell_type": "code",
   "execution_count": 8,
   "id": "7e72b3a7-9fbf-45e0-a628-6b721efe1e12",
   "metadata": {},
   "outputs": [
    {
     "data": {
      "text/plain": [
       "' it will train to return details of assignment of students  from data science masters'"
      ]
     },
     "execution_count": 8,
     "metadata": {},
     "output_type": "execute_result"
    }
   ],
   "source": [
    "ds.student_assignment()"
   ]
  },
  {
   "cell_type": "code",
   "execution_count": null,
   "id": "0297c8db-8daa-4431-a0aa-029e4b8e2a76",
   "metadata": {},
   "outputs": [],
   "source": []
  }
 ],
 "metadata": {
  "kernelspec": {
   "display_name": "Python 3 (ipykernel)",
   "language": "python",
   "name": "python3"
  },
  "language_info": {
   "codemirror_mode": {
    "name": "ipython",
    "version": 3
   },
   "file_extension": ".py",
   "mimetype": "text/x-python",
   "name": "python",
   "nbconvert_exporter": "python",
   "pygments_lexer": "ipython3",
   "version": "3.10.8"
  }
 },
 "nbformat": 4,
 "nbformat_minor": 5
}
