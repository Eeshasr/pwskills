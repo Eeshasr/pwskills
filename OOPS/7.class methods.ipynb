{
 "cells": [
  {
   "cell_type": "code",
   "execution_count": 1,
   "id": "e8c9454c-a409-4ac0-bc69-e97732455b17",
   "metadata": {},
   "outputs": [],
   "source": [
    "class pwskills:\n",
    "    def __init__(self, name, email):\n",
    "        self.name = name\n",
    "        self.email = email\n",
    "    def student_details(self):\n",
    "        print(self.name,self.email)"
   ]
  },
  {
   "cell_type": "code",
   "execution_count": 2,
   "id": "fa649b50-2210-4108-b29d-e2714f5aec0e",
   "metadata": {},
   "outputs": [],
   "source": [
    "pw = pwskills('eesha' , 'eesharavindran@gmail.com')"
   ]
  },
  {
   "cell_type": "code",
   "execution_count": 3,
   "id": "4f5679e7-2d7e-4b90-96e5-d053b29b902e",
   "metadata": {},
   "outputs": [
    {
     "data": {
      "text/plain": [
       "'eesha'"
      ]
     },
     "execution_count": 3,
     "metadata": {},
     "output_type": "execute_result"
    }
   ],
   "source": [
    "pw.name"
   ]
  },
  {
   "cell_type": "code",
   "execution_count": 4,
   "id": "9d331076-294e-489c-9358-ac4de080d95f",
   "metadata": {},
   "outputs": [
    {
     "name": "stdout",
     "output_type": "stream",
     "text": [
      "eesha eesharavindran@gmail.com\n"
     ]
    }
   ],
   "source": [
    "pw.student_details()"
   ]
  },
  {
   "cell_type": "code",
   "execution_count": 1,
   "id": "9d7032d9-7ca5-4317-9d84-689a070aee6a",
   "metadata": {},
   "outputs": [],
   "source": [
    "class pwskills1:\n",
    "    def __init__(self, name, email):\n",
    "        self.name = name\n",
    "        self.email = email\n",
    "    @classmethod # this helps to assing the data mentioned in the following function to init this helps us to do function overloading\n",
    "    def details(cls,name1,email1):\n",
    "        return cls(name1,email1)\n",
    "    def student_details(self):\n",
    "        print(self.name,self.email)"
   ]
  },
  {
   "cell_type": "code",
   "execution_count": 2,
   "id": "d1cdfb24-4b07-4be5-a0d7-f91b83b7261b",
   "metadata": {},
   "outputs": [],
   "source": [
    "pw1 = pwskills1.details('ravindran' , 'eesharavindran@gmail.com')"
   ]
  },
  {
   "cell_type": "code",
   "execution_count": 5,
   "id": "922435e3-bb4a-491c-8b16-6fba27bd2f01",
   "metadata": {},
   "outputs": [
    {
     "data": {
      "text/plain": [
       "'ravindran'"
      ]
     },
     "execution_count": 5,
     "metadata": {},
     "output_type": "execute_result"
    }
   ],
   "source": [
    "pw1.name"
   ]
  },
  {
   "cell_type": "code",
   "execution_count": 6,
   "id": "e17090b2-1ad9-4698-b194-c7706967ea25",
   "metadata": {},
   "outputs": [
    {
     "data": {
      "text/plain": [
       "'eesharavindran@gmail.com'"
      ]
     },
     "execution_count": 6,
     "metadata": {},
     "output_type": "execute_result"
    }
   ],
   "source": [
    "pw1.email"
   ]
  },
  {
   "cell_type": "code",
   "execution_count": 7,
   "id": "e79abc38-0b14-4014-99f1-fe1d87bc7b1a",
   "metadata": {},
   "outputs": [
    {
     "name": "stdout",
     "output_type": "stream",
     "text": [
      "ravindran eesharavindran@gmail.com\n"
     ]
    }
   ],
   "source": [
    "pw1.student_details()"
   ]
  },
  {
   "cell_type": "code",
   "execution_count": 2,
   "id": "2ab83bc6-ae20-4fa7-ab87-2892f497f3ea",
   "metadata": {},
   "outputs": [],
   "source": [
    "class pwskills2:\n",
    "    mobile_number = 9442821574 # this is a class variable \n",
    "    def __init__(self, name, email):\n",
    "        self.name = name\n",
    "        self.email = email\n",
    "    @classmethod # this helps to assing the data mentioned in the following function to init this helps us to do function overloading\n",
    "    def details(cls,name1,email1): # cls make it refer to the class the function belongs\n",
    "        return cls(name1,email1)\n",
    "    def student_details(self):\n",
    "        print(self.name,self.email)"
   ]
  },
  {
   "cell_type": "code",
   "execution_count": 3,
   "id": "d9ce61d2-316b-4c73-884b-431e1b9e69ca",
   "metadata": {},
   "outputs": [
    {
     "data": {
      "text/plain": [
       "9442821574"
      ]
     },
     "execution_count": 3,
     "metadata": {},
     "output_type": "execute_result"
    }
   ],
   "source": [
    "pwskills2.mobile_number # this is class variable "
   ]
  },
  {
   "cell_type": "markdown",
   "id": "8363b3c1-d453-4fce-bb3e-cbc2039078da",
   "metadata": {},
   "source": [
    "# how to access class variables inside  student detail() as it is instence method"
   ]
  },
  {
   "cell_type": "code",
   "execution_count": 4,
   "id": "94dd6be1-8bae-4843-b7e9-0894209b74ad",
   "metadata": {},
   "outputs": [],
   "source": [
    "class pwskills2:\n",
    "    mobile_number = 9442821574 # this is a class variable \n",
    "    def __init__(self, name, email):\n",
    "        self.name = name\n",
    "        self.email = email\n",
    "    @classmethod # this helps to assing the data mentioned in the following function to init this helps us to do function overloading\n",
    "    def details(cls,name1,email1): # cls make it refer to the class the function belongs\n",
    "        return cls(name1,email1)\n",
    "    def student_details(self):\n",
    "        print(self.name,self.email,pwskills2.mobile_number)"
   ]
  },
  {
   "cell_type": "code",
   "execution_count": 7,
   "id": "90a39f02-98c6-42e5-93f8-ab33260c2e4d",
   "metadata": {},
   "outputs": [],
   "source": [
    "pws = pwskills2.details('eesha' , 'ravindranji@gmail.com')"
   ]
  },
  {
   "cell_type": "code",
   "execution_count": 9,
   "id": "d84fc51a-8fbc-4ead-be16-f63e477bb2ff",
   "metadata": {},
   "outputs": [
    {
     "name": "stdout",
     "output_type": "stream",
     "text": [
      "eesha ravindranji@gmail.com 9442821574\n"
     ]
    }
   ],
   "source": [
    "pws.student_details()"
   ]
  },
  {
   "cell_type": "code",
   "execution_count": 11,
   "id": "b524fce9-1dfa-4a3e-9211-9082b0dc4c73",
   "metadata": {},
   "outputs": [],
   "source": [
    "pws2 = pwskills2('rohan' , 'rohan@gmail.com')"
   ]
  },
  {
   "cell_type": "code",
   "execution_count": 12,
   "id": "f00a2995-97f5-42cc-bc64-ffccb1d416a1",
   "metadata": {},
   "outputs": [
    {
     "name": "stdout",
     "output_type": "stream",
     "text": [
      "rohan rohan@gmail.com 9442821574\n"
     ]
    }
   ],
   "source": [
    "pws2.student_details()"
   ]
  },
  {
   "cell_type": "code",
   "execution_count": 1,
   "id": "3ddbe740-ee44-478a-b507-482c64fc2b65",
   "metadata": {},
   "outputs": [],
   "source": [
    "class pwskills2:\n",
    "    mobile_number = 9442821574 # this is a class variable \n",
    "    def __init__(self, name, email):\n",
    "        self.name = name\n",
    "        self.email = email\n",
    "        \n",
    "    @classmethod\n",
    "    def change_number(cls, mobile_number):\n",
    "        pwskills2.mobile_number = mobile_number\n",
    "        \n",
    "    @classmethod # this helps to assing the data mentioned in the following function to init this helps us to do function overloading\n",
    "    def details(cls,name1,email1): # cls make it refer to the class the function belongs\n",
    "        return cls(name1,email1)\n",
    "    def student_details(self):\n",
    "        print(self.name,self.email,pwskills2.mobile_number)"
   ]
  },
  {
   "cell_type": "code",
   "execution_count": 2,
   "id": "1896f297-929c-4688-9595-25a283d635b6",
   "metadata": {},
   "outputs": [
    {
     "data": {
      "text/plain": [
       "9442821574"
      ]
     },
     "execution_count": 2,
     "metadata": {},
     "output_type": "execute_result"
    }
   ],
   "source": [
    "pwskills2.mobile_number # how to access a class variable"
   ]
  },
  {
   "cell_type": "code",
   "execution_count": 3,
   "id": "84b55c45-a886-4f51-8b94-936de3145d0c",
   "metadata": {},
   "outputs": [],
   "source": [
    "pwskills2.change_number('9488532574')"
   ]
  },
  {
   "cell_type": "code",
   "execution_count": 4,
   "id": "c2626e0b-cb04-4096-93cf-b4be5fa4a007",
   "metadata": {},
   "outputs": [
    {
     "data": {
      "text/plain": [
       "'9488532574'"
      ]
     },
     "execution_count": 4,
     "metadata": {},
     "output_type": "execute_result"
    }
   ],
   "source": [
    "pwskills2.mobile_number"
   ]
  },
  {
   "cell_type": "code",
   "execution_count": 5,
   "id": "bd558d51-cdc0-4228-ba25-c054e9772923",
   "metadata": {},
   "outputs": [],
   "source": [
    "pws2 = pwskills2('sohan' , 'sohan@gmail.com')"
   ]
  },
  {
   "cell_type": "code",
   "execution_count": 6,
   "id": "5126102f-f9c6-4afe-9154-ca144f0409ab",
   "metadata": {},
   "outputs": [
    {
     "data": {
      "text/plain": [
       "<__main__.pwskills2 at 0x7f1f6c513d90>"
      ]
     },
     "execution_count": 6,
     "metadata": {},
     "output_type": "execute_result"
    }
   ],
   "source": [
    "pws2.details('eesha' , 'eesha@gmail.com')"
   ]
  },
  {
   "cell_type": "code",
   "execution_count": 7,
   "id": "9743ff20-9b3b-4c86-9e2d-adf70d5bbb86",
   "metadata": {},
   "outputs": [
    {
     "name": "stdout",
     "output_type": "stream",
     "text": [
      "sohan sohan@gmail.com 9488532574\n"
     ]
    }
   ],
   "source": [
    "pws2.student_details()"
   ]
  },
  {
   "cell_type": "code",
   "execution_count": null,
   "id": "2732ac02-7fb2-4827-853a-7224041f0f44",
   "metadata": {},
   "outputs": [],
   "source": [
    "#class method will create only 1 instance for many objects where as instance mentods   "
   ]
  },
  {
   "cell_type": "code",
   "execution_count": null,
   "id": "6a2ecb6c-eb33-4382-9cbb-abf356054b8d",
   "metadata": {},
   "outputs": [],
   "source": [
    "# Add an external function to the class in a dynamic way"
   ]
  },
  {
   "cell_type": "code",
   "execution_count": 24,
   "id": "333cc942-87f5-4353-8fd4-3b2bf7ea9e73",
   "metadata": {},
   "outputs": [],
   "source": [
    "class pwskills2:\n",
    "    mobile_number = 9442821574 # this is a class variable \n",
    "    def __init__(self, name, email):\n",
    "        self.name = name\n",
    "        self.email = email\n",
    "        \n",
    "    @classmethod\n",
    "    def change_number(cls, mobile_number):\n",
    "        pwskills2.mobile_number = mobile_number\n",
    "        \n",
    "    @classmethod # this helps to assing the data mentioned in the following function to init this helps us to do function overloading\n",
    "    def details(cls,name1,email1): # cls make it refer to the class the function belongs\n",
    "        return cls(name1,email1)\n",
    "    def student_details(self):\n",
    "        print(self.name,self.email,pwskills2.mobile_number)"
   ]
  },
  {
   "cell_type": "code",
   "execution_count": 25,
   "id": "283c74ce-54d0-4ad9-a37b-498d2f59a45c",
   "metadata": {},
   "outputs": [],
   "source": [
    "def course_details(cls, course_name):\n",
    "    print('course details' , course_name)"
   ]
  },
  {
   "cell_type": "code",
   "execution_count": 26,
   "id": "4b7e9322-541e-4ebe-9c9b-a5012c413606",
   "metadata": {},
   "outputs": [],
   "source": [
    "pwskills2.course_details = classmethod(course_details)"
   ]
  },
  {
   "cell_type": "code",
   "execution_count": 27,
   "id": "c1253ed8-c381-46a9-adc9-5fed31946825",
   "metadata": {},
   "outputs": [
    {
     "name": "stdout",
     "output_type": "stream",
     "text": [
      "course details DSM\n"
     ]
    }
   ],
   "source": [
    "pwskills2.course_details('DSM')"
   ]
  },
  {
   "cell_type": "code",
   "execution_count": 28,
   "id": "6d32ec68-75f2-4ed6-a396-a9cd59964e98",
   "metadata": {},
   "outputs": [],
   "source": [
    "#delete functions in a calss"
   ]
  },
  {
   "cell_type": "code",
   "execution_count": 29,
   "id": "97c6aa74-fa2a-4f85-bd0c-df887f2b39b2",
   "metadata": {},
   "outputs": [],
   "source": [
    "class pwskills2:\n",
    "    mobile_number = 9442821574 # this is a class variable \n",
    "    def __init__(self, name, email):\n",
    "        self.name = name\n",
    "        self.email = email\n",
    "        \n",
    "    @classmethod\n",
    "    def change_number(cls, mobile_number):\n",
    "        pwskills2.mobile_number = mobile_number\n",
    "        \n",
    "    @classmethod # this helps to assing the data mentioned in the following function to init this helps us to do function overloading\n",
    "    def details(cls,name1,email1): # cls make it refer to the class the function belongs\n",
    "        return cls(name1,email1)\n",
    "    def student_details(self):\n",
    "        print(self.name,self.email,pwskills2.mobile_number)"
   ]
  },
  {
   "cell_type": "code",
   "execution_count": 30,
   "id": "c97fe105-885e-4d45-8fd9-0a1cb69c1048",
   "metadata": {},
   "outputs": [],
   "source": [
    "del pwskills2.change_number"
   ]
  },
  {
   "cell_type": "markdown",
   "id": "4d9fc8dc-28b1-47fa-b846-593fbd39e671",
   "metadata": {},
   "source": [
    "pwskills2. # by pressing tab we can understand that the change_number is deleted"
   ]
  },
  {
   "cell_type": "code",
   "execution_count": 32,
   "id": "cfcef19f-0429-458d-8e25-00438a147c26",
   "metadata": {},
   "outputs": [],
   "source": [
    "delattr(pwskills2 , 'student_details') # other way to deleter "
   ]
  },
  {
   "cell_type": "code",
   "execution_count": null,
   "id": "2a700e68-d0f0-43d4-bac6-898f4adefc77",
   "metadata": {},
   "outputs": [],
   "source": [
    "pwskills2."
   ]
  }
 ],
 "metadata": {
  "kernelspec": {
   "display_name": "Python 3 (ipykernel)",
   "language": "python",
   "name": "python3"
  },
  "language_info": {
   "codemirror_mode": {
    "name": "ipython",
    "version": 3
   },
   "file_extension": ".py",
   "mimetype": "text/x-python",
   "name": "python",
   "nbconvert_exporter": "python",
   "pygments_lexer": "ipython3",
   "version": "3.10.8"
  }
 },
 "nbformat": 4,
 "nbformat_minor": 5
}
