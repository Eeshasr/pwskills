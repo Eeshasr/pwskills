{
 "cells": [
  {
   "cell_type": "code",
   "execution_count": 7,
   "id": "112cd1c9-a295-4eb3-91e7-16e3528c3e5e",
   "metadata": {},
   "outputs": [],
   "source": [
    "class pwskills:\n",
    "    def student_details(self, name, mail_id, number):\n",
    "        print(name, mail_id , number)\n",
    "        \n",
    "        "
   ]
  },
  {
   "cell_type": "code",
   "execution_count": 8,
   "id": "22cbae42-ec07-45a7-aac3-e241a38b8e83",
   "metadata": {},
   "outputs": [],
   "source": [
    "pw = pwskills()"
   ]
  },
  {
   "cell_type": "code",
   "execution_count": 9,
   "id": "2f6f4773-051b-464c-b032-384a9374b9b7",
   "metadata": {},
   "outputs": [
    {
     "name": "stdout",
     "output_type": "stream",
     "text": [
      "sudh eesha.sasikala@gmail.com 9501268904\n"
     ]
    }
   ],
   "source": [
    "pw.student_details('sudh', 'eesha.sasikala@gmail.com', 9501268904)"
   ]
  },
  {
   "cell_type": "code",
   "execution_count": 12,
   "id": "3d8671b9-3afa-4c2e-872c-d5ad015bca9d",
   "metadata": {},
   "outputs": [],
   "source": [
    "class pwskills:\n",
    "    def student_details(self, name, mail_id, number):\n",
    "        print(name, mail_id , number)\n",
    "        \n",
    "        \n",
    "    @staticmethod #allows u to call the funtion just by class as calling by obect occupies more memory \n",
    "    def mentor_mailid( mail_id):\n",
    "        print(mail_id)\n",
    "    @staticmethod\n",
    "    def mentor_class(list_mentor):\n",
    "        print(list_mentor)\n",
    "        pwskills.mentor_mailid(list_mentor)\n",
    "    \n",
    "    @classmethod\n",
    "    def class_name(cls,class_name):\n",
    "        cls.mentor_class(list_mentor)  # how to call a static method inside a class method\n",
    "        \n",
    "    def mentor(self,mentor_list): # it is instance method \n",
    "        print(mentor_list)\n",
    "        self.mentor_class(mentor_list) #how to call a static method inside an instance"
   ]
  },
  {
   "cell_type": "code",
   "execution_count": 15,
   "id": "9a63ca36-f326-4709-9893-4821989aff6e",
   "metadata": {},
   "outputs": [],
   "source": [
    "pw1 = pwskills()"
   ]
  },
  {
   "cell_type": "code",
   "execution_count": 16,
   "id": "27a5d88e-66cb-4659-a4ef-8acebc75face",
   "metadata": {},
   "outputs": [
    {
     "name": "stdout",
     "output_type": "stream",
     "text": [
      "Mohan Mohan@gmail.com 9501268904\n"
     ]
    }
   ],
   "source": [
    "pw1.student_details('Mohan' , 'Mohan@gmail.com' , 9501268904)\n",
    "\n",
    "\n"
   ]
  },
  {
   "cell_type": "code",
   "execution_count": 17,
   "id": "ba5101a8-0411-40d6-9be2-6ed16b02a560",
   "metadata": {},
   "outputs": [
    {
     "name": "stdout",
     "output_type": "stream",
     "text": [
      "['eesha@gmail.com', 'ravindran@gmail.com']\n"
     ]
    }
   ],
   "source": [
    "pw1.mentor_mailid([ 'eesha@gmail.com' , 'ravindran@gmail.com'])"
   ]
  },
  {
   "cell_type": "code",
   "execution_count": 18,
   "id": "81c8e071-2a4d-4532-9f89-f7dc0247932e",
   "metadata": {},
   "outputs": [
    {
     "name": "stdout",
     "output_type": "stream",
     "text": [
      "['eesha', 'ravindran']\n",
      "['eesha', 'ravindran']\n",
      "['eesha', 'ravindran']\n"
     ]
    }
   ],
   "source": [
    "pw1.mentor(['eesha' , 'ravindran'])"
   ]
  },
  {
   "cell_type": "code",
   "execution_count": null,
   "id": "4ed4d687-eec2-440f-80e5-2000a75c6c84",
   "metadata": {},
   "outputs": [],
   "source": [
    "# class method helps to overload init method"
   ]
  }
 ],
 "metadata": {
  "kernelspec": {
   "display_name": "Python 3 (ipykernel)",
   "language": "python",
   "name": "python3"
  },
  "language_info": {
   "codemirror_mode": {
    "name": "ipython",
    "version": 3
   },
   "file_extension": ".py",
   "mimetype": "text/x-python",
   "name": "python",
   "nbconvert_exporter": "python",
   "pygments_lexer": "ipython3",
   "version": "3.10.8"
  }
 },
 "nbformat": 4,
 "nbformat_minor": 5
}
