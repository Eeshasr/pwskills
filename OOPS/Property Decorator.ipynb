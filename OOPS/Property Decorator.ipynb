{
 "cells": [
  {
   "cell_type": "code",
   "execution_count": 1,
   "id": "91fd3f59-50b5-4ab7-abe6-7f11fb2a4c38",
   "metadata": {},
   "outputs": [],
   "source": [
    "class pwskills:\n",
    "    def __init__(self,course_price,course_name):\n",
    "        self.__course_price = course_price #private variable\n",
    "        self.course_name = course_name # public varible\n",
    "        "
   ]
  },
  {
   "cell_type": "code",
   "execution_count": 2,
   "id": "69d6cbfd-52b8-4225-b460-e0100b8f12af",
   "metadata": {},
   "outputs": [],
   "source": [
    "pw = pwskills(3500, 'DSM') # creating an object pw"
   ]
  },
  {
   "cell_type": "code",
   "execution_count": 3,
   "id": "f6a5c082-acf9-4c24-b9fd-91ed18245b02",
   "metadata": {},
   "outputs": [
    {
     "data": {
      "text/plain": [
       "'DSM'"
      ]
     },
     "execution_count": 3,
     "metadata": {},
     "output_type": "execute_result"
    }
   ],
   "source": [
    "pw.course_name"
   ]
  },
  {
   "cell_type": "code",
   "execution_count": 4,
   "id": "ab3f4a66-71f5-4fec-8775-f7831e9f4768",
   "metadata": {},
   "outputs": [
    {
     "ename": "AttributeError",
     "evalue": "'pwskills' object has no attribute '__course_price'",
     "output_type": "error",
     "traceback": [
      "\u001b[0;31m---------------------------------------------------------------------------\u001b[0m",
      "\u001b[0;31mAttributeError\u001b[0m                            Traceback (most recent call last)",
      "Cell \u001b[0;32mIn[4], line 1\u001b[0m\n\u001b[0;32m----> 1\u001b[0m \u001b[43mpw\u001b[49m\u001b[38;5;241;43m.\u001b[39;49m\u001b[43m__course_price\u001b[49m\n",
      "\u001b[0;31mAttributeError\u001b[0m: 'pwskills' object has no attribute '__course_price'"
     ]
    }
   ],
   "source": [
    "pw.__course_price"
   ]
  },
  {
   "cell_type": "code",
   "execution_count": 5,
   "id": "6e6e533e-130c-4662-a35e-2e65a6226219",
   "metadata": {},
   "outputs": [
    {
     "data": {
      "text/plain": [
       "3500"
      ]
     },
     "execution_count": 5,
     "metadata": {},
     "output_type": "execute_result"
    }
   ],
   "source": [
    "pw._pwskills__course_price"
   ]
  },
  {
   "cell_type": "markdown",
   "id": "0b4994a9-b699-42de-8f9d-a03c2565612d",
   "metadata": {},
   "source": [
    "# _ mean protected , __ mean private "
   ]
  },
  {
   "cell_type": "code",
   "execution_count": null,
   "id": "7521df10-ab5a-4ebb-8bc0-a06f6b1a7787",
   "metadata": {},
   "outputs": [],
   "source": [
    "# how to expose private property of the class to outer worls \n"
   ]
  },
  {
   "cell_type": "code",
   "execution_count": 7,
   "id": "b4bfca2d-2258-4305-9638-3ab2a31a09dd",
   "metadata": {},
   "outputs": [],
   "source": [
    "class pwskills:\n",
    "    def __init__(self,course_price,course_name):\n",
    "        self.__course_price = course_price #private variable\n",
    "        self.course_name = course_name \n",
    "    @property # helps to expose the property of a class to outer world\n",
    "    def course_price_access(self):\n",
    "        return self.__course_price"
   ]
  },
  {
   "cell_type": "code",
   "execution_count": 8,
   "id": "95072059-6373-4b69-84dc-132dcc341c69",
   "metadata": {},
   "outputs": [],
   "source": [
    "pw = pwskills(3500 , 'DSM')"
   ]
  },
  {
   "cell_type": "code",
   "execution_count": 9,
   "id": "98202d37-7021-4a45-b396-26e35410789a",
   "metadata": {},
   "outputs": [
    {
     "data": {
      "text/plain": [
       "3500"
      ]
     },
     "execution_count": 9,
     "metadata": {},
     "output_type": "execute_result"
    }
   ],
   "source": [
    "pw.course_price_access"
   ]
  },
  {
   "cell_type": "markdown",
   "id": "ee5b3fe9-5006-48f5-a157-f8fbd3a43804",
   "metadata": {},
   "source": [
    "# how to allow the user to set a price of a protected variable or a private variable - setter "
   ]
  },
  {
   "cell_type": "code",
   "execution_count": 16,
   "id": "c7c7a968-446a-42a2-89ae-79714e0220db",
   "metadata": {},
   "outputs": [],
   "source": [
    "class pwskills:\n",
    "    def __init__(self,course_price,course_name):\n",
    "        self.__course_price = course_price #private variable\n",
    "        self.course_name = course_name \n",
    "    @property # helps to expose the property of a class to outer world\n",
    "    def course_price_access(self):\n",
    "        return self.__course_price\n",
    "    \n",
    "    @course_price_access.setter # helps the user to set the price \n",
    "    def course_price_set(self, price): \n",
    "        if price <= 3500:\n",
    "            pass\n",
    "        else:\n",
    "            self.__course_price = price\n",
    "    "
   ]
  },
  {
   "cell_type": "code",
   "execution_count": 17,
   "id": "a9f6e462-a967-4000-ac8d-05a3c1dcebe8",
   "metadata": {},
   "outputs": [],
   "source": [
    "pw = pwskills(3500, 'DSM')"
   ]
  },
  {
   "cell_type": "code",
   "execution_count": 18,
   "id": "9130f99b-e233-4d3e-a27f-b769a2bcdb70",
   "metadata": {},
   "outputs": [
    {
     "data": {
      "text/plain": [
       "3500"
      ]
     },
     "execution_count": 18,
     "metadata": {},
     "output_type": "execute_result"
    }
   ],
   "source": [
    "pw.course_price_access"
   ]
  },
  {
   "cell_type": "code",
   "execution_count": 19,
   "id": "b71bf1f9-502a-4356-b45f-7dfea0953958",
   "metadata": {},
   "outputs": [],
   "source": [
    "pw.course_price_set = 2500"
   ]
  },
  {
   "cell_type": "code",
   "execution_count": 20,
   "id": "73eb2cb3-0605-424e-86c9-41427d850253",
   "metadata": {},
   "outputs": [
    {
     "data": {
      "text/plain": [
       "3500"
      ]
     },
     "execution_count": 20,
     "metadata": {},
     "output_type": "execute_result"
    }
   ],
   "source": [
    "pw.course_price_access"
   ]
  },
  {
   "cell_type": "code",
   "execution_count": 21,
   "id": "bbfa11e2-310b-49d6-8911-0768e1481066",
   "metadata": {},
   "outputs": [],
   "source": [
    "pw.course_price_set = 5000"
   ]
  },
  {
   "cell_type": "code",
   "execution_count": 22,
   "id": "e4b6cad6-c50c-49d5-b240-7c2e7c6341bf",
   "metadata": {},
   "outputs": [
    {
     "data": {
      "text/plain": [
       "5000"
      ]
     },
     "execution_count": 22,
     "metadata": {},
     "output_type": "execute_result"
    }
   ],
   "source": [
    "pw.course_price_access"
   ]
  },
  {
   "cell_type": "markdown",
   "id": "75803c5c-5615-43ec-a301-f3b70c65ef03",
   "metadata": {},
   "source": [
    "to allow te user to delete a private variable"
   ]
  },
  {
   "cell_type": "code",
   "execution_count": 23,
   "id": "95310f06-e1d1-457e-a8d6-9c370f0094ae",
   "metadata": {},
   "outputs": [],
   "source": [
    "class pwskills:\n",
    "    def __init__(self,course_price,course_name):\n",
    "        self.__course_price = course_price #private variable\n",
    "        self.course_name = course_name \n",
    "    @property # helps to expose the property of a class to outer world\n",
    "    def course_price_access(self):\n",
    "        return self.__course_price\n",
    "    \n",
    "    @course_price_access.setter # helps the user to set the price \n",
    "    def course_price_set(self, price): \n",
    "        if price <= 3500:\n",
    "            pass\n",
    "        else:\n",
    "            self.__course_price = price\n",
    "            \n",
    "    @course_price_access.deleter\n",
    "    def course_price_del(self):\n",
    "        del self.__course_price\n",
    "            "
   ]
  },
  {
   "cell_type": "code",
   "execution_count": 24,
   "id": "251b2259-84e4-4c0e-96c4-e649ad4249a3",
   "metadata": {},
   "outputs": [],
   "source": [
    "pw = pwskills(3500, 'DSM')"
   ]
  },
  {
   "cell_type": "code",
   "execution_count": 25,
   "id": "08294b06-275a-4380-835d-bd5056f7cf49",
   "metadata": {},
   "outputs": [
    {
     "data": {
      "text/plain": [
       "3500"
      ]
     },
     "execution_count": 25,
     "metadata": {},
     "output_type": "execute_result"
    }
   ],
   "source": [
    "pw.course_price_access"
   ]
  },
  {
   "cell_type": "code",
   "execution_count": 26,
   "id": "ea2333f4-f39f-43c1-9527-d2e12014ce0b",
   "metadata": {},
   "outputs": [],
   "source": [
    "del pw.course_price_del"
   ]
  },
  {
   "cell_type": "code",
   "execution_count": 27,
   "id": "a6ad1948-6b11-48b6-929a-ad910db4c5d7",
   "metadata": {},
   "outputs": [
    {
     "ename": "AttributeError",
     "evalue": "'pwskills' object has no attribute '_pwskills__course_price'",
     "output_type": "error",
     "traceback": [
      "\u001b[0;31m---------------------------------------------------------------------------\u001b[0m",
      "\u001b[0;31mAttributeError\u001b[0m                            Traceback (most recent call last)",
      "Cell \u001b[0;32mIn[27], line 1\u001b[0m\n\u001b[0;32m----> 1\u001b[0m \u001b[43mpw\u001b[49m\u001b[38;5;241;43m.\u001b[39;49m\u001b[43mcourse_price_access\u001b[49m\n",
      "Cell \u001b[0;32mIn[23], line 7\u001b[0m, in \u001b[0;36mpwskills.course_price_access\u001b[0;34m(self)\u001b[0m\n\u001b[1;32m      5\u001b[0m \u001b[38;5;129m@property\u001b[39m \u001b[38;5;66;03m# helps to expose the property of a class to outer world\u001b[39;00m\n\u001b[1;32m      6\u001b[0m \u001b[38;5;28;01mdef\u001b[39;00m \u001b[38;5;21mcourse_price_access\u001b[39m(\u001b[38;5;28mself\u001b[39m):\n\u001b[0;32m----> 7\u001b[0m     \u001b[38;5;28;01mreturn\u001b[39;00m \u001b[38;5;28;43mself\u001b[39;49m\u001b[38;5;241;43m.\u001b[39;49m\u001b[43m__course_price\u001b[49m\n",
      "\u001b[0;31mAttributeError\u001b[0m: 'pwskills' object has no attribute '_pwskills__course_price'"
     ]
    }
   ],
   "source": [
    "pw.course_price_access"
   ]
  },
  {
   "cell_type": "code",
   "execution_count": null,
   "id": "d1212923-3297-48cc-8709-f9c7867ea99d",
   "metadata": {},
   "outputs": [],
   "source": []
  }
 ],
 "metadata": {
  "kernelspec": {
   "display_name": "Python 3 (ipykernel)",
   "language": "python",
   "name": "python3"
  },
  "language_info": {
   "codemirror_mode": {
    "name": "ipython",
    "version": 3
   },
   "file_extension": ".py",
   "mimetype": "text/x-python",
   "name": "python",
   "nbconvert_exporter": "python",
   "pygments_lexer": "ipython3",
   "version": "3.10.8"
  }
 },
 "nbformat": 4,
 "nbformat_minor": 5
}
