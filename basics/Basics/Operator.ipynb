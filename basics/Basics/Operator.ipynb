{
 "cells": [
  {
   "cell_type": "markdown",
   "id": "f76ce6b1-0bf0-4b4b-8f27-20c277467c8f",
   "metadata": {},
   "source": [
    "#arthimetic operators "
   ]
  },
  {
   "cell_type": "code",
   "execution_count": 1,
   "id": "e1f52cde-dc27-4c44-95fd-339c8b35ca5a",
   "metadata": {},
   "outputs": [
    {
     "data": {
      "text/plain": [
       "20"
      ]
     },
     "execution_count": 1,
     "metadata": {},
     "output_type": "execute_result"
    }
   ],
   "source": [
    "10+10\n"
   ]
  },
  {
   "cell_type": "code",
   "execution_count": 2,
   "id": "d0b2c2df-ef50-4027-8f85-5586bbef625d",
   "metadata": {},
   "outputs": [
    {
     "data": {
      "text/plain": [
       "10"
      ]
     },
     "execution_count": 2,
     "metadata": {},
     "output_type": "execute_result"
    }
   ],
   "source": [
    "20-10"
   ]
  },
  {
   "cell_type": "code",
   "execution_count": 3,
   "id": "545ae740-1c0f-43a8-96e3-63b61bf5fa64",
   "metadata": {},
   "outputs": [
    {
     "data": {
      "text/plain": [
       "40"
      ]
     },
     "execution_count": 3,
     "metadata": {},
     "output_type": "execute_result"
    }
   ],
   "source": [
    "20*2"
   ]
  },
  {
   "cell_type": "code",
   "execution_count": 4,
   "id": "4d5edff7-1878-46f1-94bd-a559bfc673c4",
   "metadata": {},
   "outputs": [
    {
     "data": {
      "text/plain": [
       "10.0"
      ]
     },
     "execution_count": 4,
     "metadata": {},
     "output_type": "execute_result"
    }
   ],
   "source": [
    "20/2"
   ]
  },
  {
   "cell_type": "code",
   "execution_count": 5,
   "id": "2a80043a-af58-401b-95c4-644362f47e78",
   "metadata": {},
   "outputs": [
    {
     "data": {
      "text/plain": [
       "8"
      ]
     },
     "execution_count": 5,
     "metadata": {},
     "output_type": "execute_result"
    }
   ],
   "source": [
    "2**3 #to the power"
   ]
  },
  {
   "cell_type": "code",
   "execution_count": 6,
   "id": "113398e4-12d2-4a9b-84bd-5e96da21b6b7",
   "metadata": {},
   "outputs": [
    {
     "data": {
      "text/plain": [
       "1"
      ]
     },
     "execution_count": 6,
     "metadata": {},
     "output_type": "execute_result"
    }
   ],
   "source": [
    "4//3 #for remainders"
   ]
  },
  {
   "cell_type": "code",
   "execution_count": 7,
   "id": "bb26098f-1b04-4491-8062-10a4637eb34d",
   "metadata": {
    "tags": []
   },
   "outputs": [
    {
     "data": {
      "text/plain": [
       "False"
      ]
     },
     "execution_count": 7,
     "metadata": {},
     "output_type": "execute_result"
    }
   ],
   "source": [
    "1>2 #comparison operator  it results in true or false answers"
   ]
  },
  {
   "cell_type": "code",
   "execution_count": 8,
   "id": "827a29e0-3d0d-460c-894a-58c8d0b83aae",
   "metadata": {
    "collapsed": true,
    "jupyter": {
     "outputs_hidden": true
    },
    "tags": []
   },
   "outputs": [
    {
     "data": {
      "text/plain": [
       "True"
      ]
     },
     "execution_count": 8,
     "metadata": {},
     "output_type": "execute_result"
    }
   ],
   "source": [
    "1>0"
   ]
  },
  {
   "cell_type": "code",
   "execution_count": 11,
   "id": "be90df2d-6269-4bb1-8395-2a1a954ac5d7",
   "metadata": {},
   "outputs": [
    {
     "data": {
      "text/plain": [
       "False"
      ]
     },
     "execution_count": 11,
     "metadata": {},
     "output_type": "execute_result"
    }
   ],
   "source": [
    "1 == 2 #compariosn operator where 1 =2 os an assigment operator"
   ]
  },
  {
   "cell_type": "code",
   "execution_count": 12,
   "id": "ff1675e7-cefc-4cfd-a106-be457e24dc7b",
   "metadata": {},
   "outputs": [
    {
     "data": {
      "text/plain": [
       "True"
      ]
     },
     "execution_count": 12,
     "metadata": {},
     "output_type": "execute_result"
    }
   ],
   "source": [
    "2!=3 #not equal symbol "
   ]
  },
  {
   "cell_type": "markdown",
   "id": "e50daad1-3578-42ab-ae8e-8c59e556eef8",
   "metadata": {},
   "source": [
    "# logical operators and or not"
   ]
  },
  {
   "cell_type": "code",
   "execution_count": 13,
   "id": "e17ee174-26d3-4cd6-89bd-942ceea62748",
   "metadata": {},
   "outputs": [
    {
     "data": {
      "text/plain": [
       "True"
      ]
     },
     "execution_count": 13,
     "metadata": {},
     "output_type": "execute_result"
    }
   ],
   "source": [
    "True and True"
   ]
  },
  {
   "cell_type": "code",
   "execution_count": 14,
   "id": "35117963-5e83-4f0b-92dd-8d18079ac6b1",
   "metadata": {},
   "outputs": [
    {
     "data": {
      "text/plain": [
       "False"
      ]
     },
     "execution_count": 14,
     "metadata": {},
     "output_type": "execute_result"
    }
   ],
   "source": [
    "True and False"
   ]
  },
  {
   "cell_type": "code",
   "execution_count": 15,
   "id": "7438efcb-0cb9-4fb0-9c3c-9d700f0a0186",
   "metadata": {},
   "outputs": [
    {
     "data": {
      "text/plain": [
       "False"
      ]
     },
     "execution_count": 15,
     "metadata": {},
     "output_type": "execute_result"
    }
   ],
   "source": [
    "False and False"
   ]
  },
  {
   "cell_type": "code",
   "execution_count": 16,
   "id": "548b4734-49bf-47f5-88c6-4d327fd8eb52",
   "metadata": {},
   "outputs": [
    {
     "data": {
      "text/plain": [
       "True"
      ]
     },
     "execution_count": 16,
     "metadata": {},
     "output_type": "execute_result"
    }
   ],
   "source": [
    "True or True"
   ]
  },
  {
   "cell_type": "code",
   "execution_count": 17,
   "id": "67f887a3-fc7c-4c6d-a587-061e4856c87a",
   "metadata": {},
   "outputs": [
    {
     "data": {
      "text/plain": [
       "True"
      ]
     },
     "execution_count": 17,
     "metadata": {},
     "output_type": "execute_result"
    }
   ],
   "source": [
    "True or False"
   ]
  },
  {
   "cell_type": "code",
   "execution_count": 18,
   "id": "b93f65cf-171e-43f6-8b1a-e03da554006c",
   "metadata": {},
   "outputs": [
    {
     "data": {
      "text/plain": [
       "False"
      ]
     },
     "execution_count": 18,
     "metadata": {},
     "output_type": "execute_result"
    }
   ],
   "source": [
    "False or False "
   ]
  },
  {
   "cell_type": "code",
   "execution_count": 21,
   "id": "93c08781-1581-46ee-8e8f-72f89e9501e4",
   "metadata": {},
   "outputs": [
    {
     "data": {
      "text/plain": [
       "False"
      ]
     },
     "execution_count": 21,
     "metadata": {},
     "output_type": "execute_result"
    }
   ],
   "source": [
    "not True"
   ]
  },
  {
   "cell_type": "code",
   "execution_count": 22,
   "id": "ee08eee6-2140-4599-8058-bacf278f2a28",
   "metadata": {},
   "outputs": [
    {
     "data": {
      "text/plain": [
       "True"
      ]
     },
     "execution_count": 22,
     "metadata": {},
     "output_type": "execute_result"
    }
   ],
   "source": [
    "not False"
   ]
  },
  {
   "cell_type": "markdown",
   "id": "484104f2-0fd7-48e0-acf5-857d5bd26295",
   "metadata": {},
   "source": [
    "#bitwise operator - it will convert your dataset into a bit and then do operation"
   ]
  },
  {
   "cell_type": "code",
   "execution_count": 23,
   "id": "41a05c8f-2f04-476c-b952-e778ee5f5743",
   "metadata": {},
   "outputs": [
    {
     "data": {
      "text/plain": [
       "2"
      ]
     },
     "execution_count": 23,
     "metadata": {},
     "output_type": "execute_result"
    }
   ],
   "source": [
    "2&3"
   ]
  },
  {
   "cell_type": "code",
   "execution_count": 24,
   "id": "271f7ee8-a334-4069-9ff0-2c1b46b1de44",
   "metadata": {},
   "outputs": [
    {
     "data": {
      "text/plain": [
       "2"
      ]
     },
     "execution_count": 24,
     "metadata": {},
     "output_type": "execute_result"
    }
   ],
   "source": [
    "3 & 10"
   ]
  },
  {
   "cell_type": "code",
   "execution_count": 25,
   "id": "70e7e9a8-417a-423e-848d-810ca043dc46",
   "metadata": {},
   "outputs": [
    {
     "data": {
      "text/plain": [
       "'0b1010'"
      ]
     },
     "execution_count": 25,
     "metadata": {},
     "output_type": "execute_result"
    }
   ],
   "source": [
    "bin(10)"
   ]
  },
  {
   "cell_type": "code",
   "execution_count": 26,
   "id": "eabe9876-af37-407b-863c-c715a35562c9",
   "metadata": {},
   "outputs": [
    {
     "data": {
      "text/plain": [
       "'0b10111'"
      ]
     },
     "execution_count": 26,
     "metadata": {},
     "output_type": "execute_result"
    }
   ],
   "source": [
    "bin(23)"
   ]
  },
  {
   "cell_type": "code",
   "execution_count": 28,
   "id": "5c7cab61-ff52-406c-923d-5ff47122b3a8",
   "metadata": {},
   "outputs": [
    {
     "data": {
      "text/plain": [
       "2"
      ]
     },
     "execution_count": 28,
     "metadata": {},
     "output_type": "execute_result"
    }
   ],
   "source": [
    "23 & 10"
   ]
  },
  {
   "cell_type": "code",
   "execution_count": 29,
   "id": "ed601eaf-429d-45da-bc9a-e938ee9a9a5b",
   "metadata": {},
   "outputs": [
    {
     "data": {
      "text/plain": [
       "35"
      ]
     },
     "execution_count": 29,
     "metadata": {},
     "output_type": "execute_result"
    }
   ],
   "source": [
    "34| 3 # or operation "
   ]
  },
  {
   "cell_type": "code",
   "execution_count": 30,
   "id": "7bfeefd5-3416-4c94-bea6-68f89caece07",
   "metadata": {},
   "outputs": [
    {
     "data": {
      "text/plain": [
       "'0b100010'"
      ]
     },
     "execution_count": 30,
     "metadata": {},
     "output_type": "execute_result"
    }
   ],
   "source": [
    "bin (34)"
   ]
  },
  {
   "cell_type": "code",
   "execution_count": 31,
   "id": "90116a65-1888-4368-a9cd-2935ef5b16ae",
   "metadata": {},
   "outputs": [
    {
     "data": {
      "text/plain": [
       "'0b11'"
      ]
     },
     "execution_count": 31,
     "metadata": {},
     "output_type": "execute_result"
    }
   ],
   "source": [
    "bin(3)"
   ]
  },
  {
   "cell_type": "code",
   "execution_count": 33,
   "id": "794ddaf4-80c2-4e10-b23f-a6f575adf08d",
   "metadata": {},
   "outputs": [
    {
     "data": {
      "text/plain": [
       "2"
      ]
     },
     "execution_count": 33,
     "metadata": {},
     "output_type": "execute_result"
    }
   ],
   "source": [
    "0b100010 & 0b11"
   ]
  },
  {
   "cell_type": "code",
   "execution_count": 34,
   "id": "a27954e0-50e2-4623-8ddc-357b90df92b6",
   "metadata": {},
   "outputs": [
    {
     "data": {
      "text/plain": [
       "-4"
      ]
     },
     "execution_count": 34,
     "metadata": {},
     "output_type": "execute_result"
    }
   ],
   "source": [
    "~3 # negate symbol bit wise not operator"
   ]
  },
  {
   "cell_type": "code",
   "execution_count": 35,
   "id": "cc6588e5-01f9-4a31-a0c1-c0833450b6bf",
   "metadata": {},
   "outputs": [
    {
     "data": {
      "text/plain": [
       "'-0b100'"
      ]
     },
     "execution_count": 35,
     "metadata": {},
     "output_type": "execute_result"
    }
   ],
   "source": [
    "bin (~3)"
   ]
  },
  {
   "cell_type": "code",
   "execution_count": 36,
   "id": "2fa6d3be-d31a-4341-b632-c44a9de40f68",
   "metadata": {},
   "outputs": [
    {
     "data": {
      "text/plain": [
       "2"
      ]
     },
     "execution_count": 36,
     "metadata": {},
     "output_type": "execute_result"
    }
   ],
   "source": [
    "20>> 3 #right shift operator"
   ]
  },
  {
   "cell_type": "code",
   "execution_count": 37,
   "id": "d19595bd-7698-45f2-a29d-1de782808aa1",
   "metadata": {},
   "outputs": [
    {
     "data": {
      "text/plain": [
       "'0b10100'"
      ]
     },
     "execution_count": 37,
     "metadata": {},
     "output_type": "execute_result"
    }
   ],
   "source": [
    "bin(20)"
   ]
  },
  {
   "cell_type": "code",
   "execution_count": 38,
   "id": "34b813d8-53bc-40d2-a7f6-5adcf9041c39",
   "metadata": {},
   "outputs": [
    {
     "data": {
      "text/plain": [
       "'0b11'"
      ]
     },
     "execution_count": 38,
     "metadata": {},
     "output_type": "execute_result"
    }
   ],
   "source": [
    "bin(3)"
   ]
  },
  {
   "cell_type": "code",
   "execution_count": 39,
   "id": "21c94443-a09c-477c-bf4e-7d6bce25b2ef",
   "metadata": {
    "tags": []
   },
   "outputs": [
    {
     "data": {
      "text/plain": [
       "'0b10'"
      ]
     },
     "execution_count": 39,
     "metadata": {},
     "output_type": "execute_result"
    }
   ],
   "source": [
    "bin(2) # we are shifting three places from the binary value leading to have 10 insted or 10100 "
   ]
  },
  {
   "cell_type": "code",
   "execution_count": 40,
   "id": "09d755e4-ccf7-4c5b-8098-7d113570e5a4",
   "metadata": {},
   "outputs": [
    {
     "data": {
      "text/plain": [
       "140"
      ]
     },
     "execution_count": 40,
     "metadata": {},
     "output_type": "execute_result"
    }
   ],
   "source": [
    "35<<2 #left shift operator "
   ]
  },
  {
   "cell_type": "code",
   "execution_count": 41,
   "id": "e345fa37-da74-4c5c-9195-09b90ad8c14d",
   "metadata": {},
   "outputs": [
    {
     "data": {
      "text/plain": [
       "'0b100011'"
      ]
     },
     "execution_count": 41,
     "metadata": {},
     "output_type": "execute_result"
    }
   ],
   "source": [
    "bin(35)"
   ]
  },
  {
   "cell_type": "code",
   "execution_count": 42,
   "id": "5ad682df-6905-404b-b72f-97ae454402b2",
   "metadata": {},
   "outputs": [
    {
     "data": {
      "text/plain": [
       "'0b10001100'"
      ]
     },
     "execution_count": 42,
     "metadata": {},
     "output_type": "execute_result"
    }
   ],
   "source": [
    "bin(140)"
   ]
  },
  {
   "cell_type": "markdown",
   "id": "1151b820-3b5c-4e40-92e7-8150db1ac850",
   "metadata": {},
   "source": [
    "#assigment operator"
   ]
  },
  {
   "cell_type": "code",
   "execution_count": 45,
   "id": "df31647c-ecad-4361-a273-0fd9f4038727",
   "metadata": {},
   "outputs": [],
   "source": [
    "  a =10\n",
    "  a+=2"
   ]
  },
  {
   "cell_type": "code",
   "execution_count": 46,
   "id": "f37211b2-72d9-4609-b265-4d4f83e0f869",
   "metadata": {},
   "outputs": [
    {
     "data": {
      "text/plain": [
       "12"
      ]
     },
     "execution_count": 46,
     "metadata": {},
     "output_type": "execute_result"
    }
   ],
   "source": [
    "a"
   ]
  },
  {
   "cell_type": "code",
   "execution_count": 47,
   "id": "92fe8a77-a93a-49ad-b2f9-3ecc65ab3643",
   "metadata": {},
   "outputs": [],
   "source": [
    "a-=2"
   ]
  },
  {
   "cell_type": "code",
   "execution_count": 48,
   "id": "6eac2c16-06f2-440d-a75e-5a5599e92afb",
   "metadata": {},
   "outputs": [
    {
     "data": {
      "text/plain": [
       "10"
      ]
     },
     "execution_count": 48,
     "metadata": {},
     "output_type": "execute_result"
    }
   ],
   "source": [
    "a"
   ]
  },
  {
   "cell_type": "code",
   "execution_count": null,
   "id": "9104bfa6-5e01-4b24-bb92-3be8325e7e73",
   "metadata": {},
   "outputs": [],
   "source": []
  }
 ],
 "metadata": {
  "kernelspec": {
   "display_name": "Python 3 (ipykernel)",
   "language": "python",
   "name": "python3"
  },
  "language_info": {
   "codemirror_mode": {
    "name": "ipython",
    "version": 3
   },
   "file_extension": ".py",
   "mimetype": "text/x-python",
   "name": "python",
   "nbconvert_exporter": "python",
   "pygments_lexer": "ipython3",
   "version": "3.10.8"
  }
 },
 "nbformat": 4,
 "nbformat_minor": 5
}
