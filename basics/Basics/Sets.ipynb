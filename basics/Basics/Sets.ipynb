{
 "cells": [
  {
   "cell_type": "code",
   "execution_count": 1,
   "id": "5c9a8c89-04d3-4053-a965-df436e13a66c",
   "metadata": {},
   "outputs": [],
   "source": [
    "s ={}"
   ]
  },
  {
   "cell_type": "code",
   "execution_count": 2,
   "id": "c03f33dd-030b-429c-8434-1edfe426b1c0",
   "metadata": {},
   "outputs": [
    {
     "data": {
      "text/plain": [
       "dict"
      ]
     },
     "execution_count": 2,
     "metadata": {},
     "output_type": "execute_result"
    }
   ],
   "source": [
    "type(s)"
   ]
  },
  {
   "cell_type": "code",
   "execution_count": 3,
   "id": "c7ee441e-e0d1-47c3-bcf7-e286f0b58709",
   "metadata": {},
   "outputs": [],
   "source": [
    "s1 = {1,2,3,4,5}"
   ]
  },
  {
   "cell_type": "code",
   "execution_count": 4,
   "id": "548d59b5-5954-41a9-b6a2-57ed951c3ee7",
   "metadata": {},
   "outputs": [
    {
     "data": {
      "text/plain": [
       "set"
      ]
     },
     "execution_count": 4,
     "metadata": {},
     "output_type": "execute_result"
    }
   ],
   "source": [
    "type(s1)"
   ]
  },
  {
   "cell_type": "code",
   "execution_count": 5,
   "id": "4aace271-7355-4662-869c-430d8b01a8e6",
   "metadata": {},
   "outputs": [],
   "source": [
    "s2 = {1,2,1,5,6,5}"
   ]
  },
  {
   "cell_type": "code",
   "execution_count": 6,
   "id": "5d4ad282-0bdd-4a5d-98da-713f038f6039",
   "metadata": {},
   "outputs": [
    {
     "data": {
      "text/plain": [
       "{1, 2, 5, 6}"
      ]
     },
     "execution_count": 6,
     "metadata": {},
     "output_type": "execute_result"
    }
   ],
   "source": [
    "s2"
   ]
  },
  {
   "cell_type": "code",
   "execution_count": null,
   "id": "a847fedf-d1ce-405f-b2f0-6c1eda792879",
   "metadata": {},
   "outputs": [],
   "source": [
    "#set is collection which has unique elements in it."
   ]
  },
  {
   "cell_type": "code",
   "execution_count": 16,
   "id": "301c5e86-f9b1-4b73-be8e-231335ffa148",
   "metadata": {},
   "outputs": [],
   "source": [
    "s3 = {1,2,3,4,(1,2,3,4)}"
   ]
  },
  {
   "cell_type": "code",
   "execution_count": 8,
   "id": "b1607ac8-195c-4300-b36a-e680ea85b2c6",
   "metadata": {},
   "outputs": [],
   "source": [
    "s4 = {1,2,3,4,(1,2,3)}"
   ]
  },
  {
   "cell_type": "code",
   "execution_count": 9,
   "id": "12c81542-60ff-4a1a-8818-25629b3a2871",
   "metadata": {},
   "outputs": [
    {
     "data": {
      "text/plain": [
       "{(1, 2, 3), 1, 2, 3, 4}"
      ]
     },
     "execution_count": 9,
     "metadata": {},
     "output_type": "execute_result"
    }
   ],
   "source": [
    "s4"
   ]
  },
  {
   "cell_type": "code",
   "execution_count": null,
   "id": "95f75bfe-1af9-4af5-9d0c-e972febc6aeb",
   "metadata": {},
   "outputs": [],
   "source": [
    "# sets accepts tuples but not list as list can be edited and can change \n"
   ]
  },
  {
   "cell_type": "code",
   "execution_count": 10,
   "id": "94de7d5a-48a7-4f2b-b23b-f7aa3ea7406c",
   "metadata": {},
   "outputs": [],
   "source": [
    "s4.add(34)"
   ]
  },
  {
   "cell_type": "code",
   "execution_count": 11,
   "id": "7f212d9f-78cc-4678-9c78-d513c6d337fa",
   "metadata": {},
   "outputs": [
    {
     "data": {
      "text/plain": [
       "{(1, 2, 3), 1, 2, 3, 34, 4}"
      ]
     },
     "execution_count": 11,
     "metadata": {},
     "output_type": "execute_result"
    }
   ],
   "source": [
    "s4"
   ]
  },
  {
   "cell_type": "code",
   "execution_count": 12,
   "id": "8e0e2b6e-6177-44f2-9512-a6c5b5b40f21",
   "metadata": {},
   "outputs": [
    {
     "data": {
      "text/plain": [
       "6"
      ]
     },
     "execution_count": 12,
     "metadata": {},
     "output_type": "execute_result"
    }
   ],
   "source": [
    "len(s4)"
   ]
  },
  {
   "cell_type": "code",
   "execution_count": 14,
   "id": "9167e9f4-754b-43e5-b80e-8cbce7279b6e",
   "metadata": {},
   "outputs": [
    {
     "data": {
      "text/plain": [
       "2"
      ]
     },
     "execution_count": 14,
     "metadata": {},
     "output_type": "execute_result"
    }
   ],
   "source": [
    "s4.pop()"
   ]
  },
  {
   "cell_type": "code",
   "execution_count": 17,
   "id": "805d4564-0c4c-4932-b1c4-54e20b6233ca",
   "metadata": {},
   "outputs": [
    {
     "data": {
      "text/plain": [
       "{(1, 2, 3), 34}"
      ]
     },
     "execution_count": 17,
     "metadata": {},
     "output_type": "execute_result"
    }
   ],
   "source": [
    "s4.difference(s3)"
   ]
  },
  {
   "cell_type": "code",
   "execution_count": 18,
   "id": "dd4d48a9-6cd7-4c60-bbee-44745e085726",
   "metadata": {},
   "outputs": [
    {
     "data": {
      "text/plain": [
       "{(1, 2, 3, 4), 1, 2}"
      ]
     },
     "execution_count": 18,
     "metadata": {},
     "output_type": "execute_result"
    }
   ],
   "source": [
    "s3.difference(s4)"
   ]
  },
  {
   "cell_type": "code",
   "execution_count": null,
   "id": "b4e2c4e2-a5e1-449d-9f35-fe5f64ce9289",
   "metadata": {},
   "outputs": [],
   "source": []
  }
 ],
 "metadata": {
  "kernelspec": {
   "display_name": "Python 3 (ipykernel)",
   "language": "python",
   "name": "python3"
  },
  "language_info": {
   "codemirror_mode": {
    "name": "ipython",
    "version": 3
   },
   "file_extension": ".py",
   "mimetype": "text/x-python",
   "name": "python",
   "nbconvert_exporter": "python",
   "pygments_lexer": "ipython3",
   "version": "3.10.8"
  }
 },
 "nbformat": 4,
 "nbformat_minor": 5
}
