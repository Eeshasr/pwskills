{
 "cells": [
  {
   "cell_type": "code",
   "execution_count": 2,
   "id": "dff07d6a-8f40-4feb-a1d7-ddee6674b4a5",
   "metadata": {},
   "outputs": [
    {
     "name": "stdout",
     "output_type": "stream",
     "text": [
      "hello world\n"
     ]
    }
   ],
   "source": [
    "print('hello world')"
   ]
  },
  {
   "cell_type": "code",
   "execution_count": 3,
   "id": "bc01b552-14f3-486c-b8ac-8f842339377f",
   "metadata": {},
   "outputs": [
    {
     "name": "stdout",
     "output_type": "stream",
     "text": [
      "123\n"
     ]
    }
   ],
   "source": [
    "print(123)"
   ]
  },
  {
   "cell_type": "code",
   "execution_count": 4,
   "id": "7a490d18-5441-468b-b565-a46af0d5c7df",
   "metadata": {},
   "outputs": [
    {
     "name": "stdout",
     "output_type": "stream",
     "text": [
      "My age is  28\n"
     ]
    }
   ],
   "source": [
    "age = 28\n",
    "print('My age is ' , age)"
   ]
  },
  {
   "cell_type": "code",
   "execution_count": 5,
   "id": "62f2340c-b1d8-49c5-81f0-dfda81ec024e",
   "metadata": {},
   "outputs": [
    {
     "name": "stdout",
     "output_type": "stream",
     "text": [
      "my age is:(age)\n"
     ]
    }
   ],
   "source": [
    "print('my age is:{age}')"
   ]
  },
  {
   "cell_type": "code",
   "execution_count": 6,
   "id": "0099dc98-f739-4e7d-b1dd-15c3b4f9f495",
   "metadata": {},
   "outputs": [
    {
     "name": "stdout",
     "output_type": "stream",
     "text": [
      "my age is:28\n"
     ]
    }
   ],
   "source": [
    "print(f'my age is:{age}') #f string is for formating"
   ]
  },
  {
   "cell_type": "code",
   "execution_count": 7,
   "id": "5bce7423-056a-4f5f-91a7-45d463de1d6c",
   "metadata": {},
   "outputs": [
    {
     "name": "stdout",
     "output_type": "stream",
     "text": [
      "My name is Eesha and age is 28\n"
     ]
    }
   ],
   "source": [
    "#format() follows sequential manner \n",
    "name = 'Eesha'\n",
    "age = 28\n",
    "print('My name is {} and age is {}'.format(name,age))\n"
   ]
  },
  {
   "cell_type": "code",
   "execution_count": 8,
   "id": "9728e0c5-d54c-4b9b-b8fd-0d6a13eb3332",
   "metadata": {},
   "outputs": [
    {
     "name": "stdout",
     "output_type": "stream",
     "text": [
      "My name is 28 and age is Eesha\n"
     ]
    }
   ],
   "source": [
    "print('My name is {} and age is {}'.format(age,name))\n"
   ]
  },
  {
   "cell_type": "code",
   "execution_count": 9,
   "id": "02455ae2-b7e8-4d00-b2eb-5fe8f5f2a1de",
   "metadata": {},
   "outputs": [
    {
     "name": "stdout",
     "output_type": "stream",
     "text": [
      "My name is Eesha and age is 28\n"
     ]
    }
   ],
   "source": [
    "#place holder\n",
    "print('My name is {firstname} and age is {age}'.format(firstname=name,age=age))\n"
   ]
  },
  {
   "cell_type": "code",
   "execution_count": 11,
   "id": "9ab40ff7-d5e5-4f46-81c5-1acdd3bfaa8e",
   "metadata": {},
   "outputs": [
    {
     "name": "stdout",
     "output_type": "stream",
     "text": [
      "my age is:28 and i have completed :MiM and my name is:Eesha\n"
     ]
    }
   ],
   "source": [
    "name = 'Eesha'\n",
    "age = 28\n",
    "degree = 'MiM'\n",
    "print(f'my age is:{age} and i have completed :{degree} and my name is:{name}')"
   ]
  },
  {
   "cell_type": "markdown",
   "id": "4696c794-604a-49e2-8283-a9d02e9b7492",
   "metadata": {},
   "source": [
    "## Control Flow\n",
    "### Decision Making statements\n",
    "   * It is kind of making decision during occurred situation of program execution and action can be taken according to specified conditions.\n",
    "   * Structure of decision making evaluate several expressions that provide True or False as a result.\n",
    "   * It is up to you to decide which type of action want to take and execute the statements based upon True and False.\n",
    "   \n",
    "**These are several topics of decision making which going to be discussed below:**\n",
    "   1. **if**\n",
    "   2. **if else** \n",
    "   3. **if elif else**\n",
    "   4. **Nested if**\n",
    "   5. **Single Statement Suites**"
   ]
  },
  {
   "cell_type": "code",
   "execution_count": 14,
   "id": "402ee333-b3b4-463b-98c3-504b41d1e5e8",
   "metadata": {},
   "outputs": [
    {
     "name": "stdin",
     "output_type": "stream",
     "text": [
      " 32\n"
     ]
    },
    {
     "name": "stdout",
     "output_type": "stream",
     "text": [
      "You can vote\n"
     ]
    }
   ],
   "source": [
    "#if statement \n",
    "age = int(input())\n",
    "if age >= 18:\n",
    "    print('You can vote')\n"
   ]
  },
  {
   "cell_type": "code",
   "execution_count": 15,
   "id": "f8026658-964c-4e1a-bfd8-cfedc2c73c41",
   "metadata": {},
   "outputs": [
    {
     "name": "stdin",
     "output_type": "stream",
     "text": [
      " 12\n"
     ]
    },
    {
     "name": "stdout",
     "output_type": "stream",
     "text": [
      "You cannot vote\n"
     ]
    }
   ],
   "source": [
    "age = int(input()) #intially input reads string and display it as output hence it requires typecasting\n",
    "if age >= 18:\n",
    "    print('You can vote')\n",
    "else:\n",
    "    print('You cannot vote')"
   ]
  },
  {
   "cell_type": "code",
   "execution_count": 16,
   "id": "ff79d0f8-9f06-448f-a0d1-bebf30e9de32",
   "metadata": {},
   "outputs": [
    {
     "name": "stdin",
     "output_type": "stream",
     "text": [
      "Enter the age 28\n"
     ]
    },
    {
     "name": "stdout",
     "output_type": "stream",
     "text": [
      "You are young\n"
     ]
    }
   ],
   "source": [
    "age = int(input('Enter the age'))\n",
    "if age>= 18 and age <=45:\n",
    "    print('You are young')\n",
    "else:\n",
    "    print('You are rejected')"
   ]
  },
  {
   "cell_type": "markdown",
   "id": "03292218-7bc4-437f-a6bb-05b27b51325c",
   "metadata": {},
   "source": [
    "## mall - input the product price\n",
    "## product >1000 rs 20% off\n",
    "## print the product price after removing the discount\n",
    "## product <=1000 rs 30% off\n",
    "## print the product price after removing the discount"
   ]
  },
  {
   "cell_type": "code",
   "execution_count": 24,
   "id": "530c54e0-e02e-4e71-bbb6-29adb94df094",
   "metadata": {},
   "outputs": [
    {
     "name": "stdin",
     "output_type": "stream",
     "text": [
      " 15000\n"
     ]
    },
    {
     "name": "stdout",
     "output_type": "stream",
     "text": [
      "Price is:(12000.0,)\n"
     ]
    }
   ],
   "source": [
    "ProductPrice = int(input())\n",
    "if ProductPrice> 1000:\n",
    "    Price = ProductPrice  - (0.2*ProductPrice ),\n",
    "    print(f'Price is:{Price}')\n",
    "else:\n",
    "    Price = ProdutPrice - (0.3*ProductPrice),\n",
    "    print(f'Price is:{Price}')"
   ]
  },
  {
   "cell_type": "code",
   "execution_count": 3,
   "id": "8cd3529b-3510-4e03-84d4-0b7a75e87791",
   "metadata": {},
   "outputs": [
    {
     "name": "stdin",
     "output_type": "stream",
     "text": [
      "enter the number 10000\n"
     ]
    },
    {
     "name": "stdout",
     "output_type": "stream",
     "text": [
      "go home\n"
     ]
    }
   ],
   "source": [
    "#single statement \n",
    "val = int(input('enter the number'))\n",
    "          \n",
    "if(val<=999):print('value is less than equal to 999')\n",
    "else: print('go home')\n"
   ]
  },
  {
   "cell_type": "markdown",
   "id": "9a6c1c00-d6fc-49da-8fd2-5b4aa555ccaf",
   "metadata": {},
   "source": [
    "#loops\n",
    "1. while loop\n",
    "2. for loop \n",
    "3. nested loop\n",
    "4. loop control(break,contineu, pass)"
   ]
  },
  {
   "cell_type": "code",
   "execution_count": 5,
   "id": "8e62db57-68c1-45f1-8438-ea06200b24e0",
   "metadata": {},
   "outputs": [
    {
     "name": "stdin",
     "output_type": "stream",
     "text": [
      " 62\n"
     ]
    },
    {
     "name": "stdout",
     "output_type": "stream",
     "text": [
      "time to retire\n"
     ]
    }
   ],
   "source": [
    "joining_age = int(input())\n",
    "while joining_age<= 60:\n",
    "    print(joining_age)\n",
    "    joining_age+=1\n",
    "else:\n",
    "    print('time to retire')\n",
    "    "
   ]
  },
  {
   "cell_type": "markdown",
   "id": "48692110-a5d8-4204-b8a1-18aca6a8726f",
   "metadata": {},
   "source": [
    "#for loop is used to iterate between elements of list or collection of elements"
   ]
  },
  {
   "cell_type": "code",
   "execution_count": 7,
   "id": "ceea4d3b-a597-4b35-879f-ac82527360dd",
   "metadata": {},
   "outputs": [
    {
     "name": "stdout",
     "output_type": "stream",
     "text": [
      "eesha\n",
      "1\n",
      "2\n",
      "3\n",
      "4\n",
      "(5+3j)\n"
     ]
    }
   ],
   "source": [
    "lst = ['eesha',1,2,3,4,5+3j]\n",
    "for x in lst:\n",
    "       print(x)"
   ]
  },
  {
   "cell_type": "code",
   "execution_count": 10,
   "id": "83b82fbe-8a93-49f8-8511-94df9c5988fb",
   "metadata": {},
   "outputs": [
    {
     "name": "stdout",
     "output_type": "stream",
     "text": [
      "mango"
     ]
    }
   ],
   "source": [
    "fruit = 'mango'\n",
    "for x in fruit:\n",
    "    print(x, end='')"
   ]
  },
  {
   "cell_type": "code",
   "execution_count": 8,
   "id": "053d3418-fe03-42f8-8fe8-6de37fd57de6",
   "metadata": {},
   "outputs": [
    {
     "name": "stdout",
     "output_type": "stream",
     "text": [
      "m\n",
      "a\n",
      "n\n",
      "g\n",
      "o\n"
     ]
    }
   ],
   "source": [
    "fruit = 'mango'\n",
    "for x in fruit:\n",
    "    print(x)"
   ]
  },
  {
   "cell_type": "code",
   "execution_count": 9,
   "id": "2da64fdb-f956-4a83-b9b8-3c4a74e6f6d1",
   "metadata": {},
   "outputs": [
    {
     "data": {
      "text/plain": [
       "'a'"
      ]
     },
     "execution_count": 9,
     "metadata": {},
     "output_type": "execute_result"
    }
   ],
   "source": [
    "fruit[1]"
   ]
  },
  {
   "cell_type": "code",
   "execution_count": 8,
   "id": "81a2498b-b17b-4dc8-be3d-c5e288d2f32c",
   "metadata": {},
   "outputs": [
    {
     "name": "stdout",
     "output_type": "stream",
     "text": [
      "*\n",
      "*\n",
      "*\n",
      "*\n",
      "*\n",
      "*\n",
      "*\n",
      "*\n",
      "*\n",
      "*\n",
      "*\n",
      "*\n",
      "*\n",
      "*\n",
      "*\n",
      "*\n",
      "*\n",
      "*\n",
      "*\n",
      "*\n",
      "*\n",
      "*\n",
      "*\n",
      "*\n",
      "*\n",
      "*\n",
      "*\n",
      "*\n"
     ]
    }
   ],
   "source": [
    "#nested loops \n",
    "n=7\n",
    "for i in range(0,n):\n",
    "    for j in range(0,i+1):\n",
    "        print('*',end ='\\n')"
   ]
  },
  {
   "cell_type": "code",
   "execution_count": 10,
   "id": "e7db5e36-5279-4fd2-a2e4-cfc385d3fe21",
   "metadata": {},
   "outputs": [
    {
     "name": "stdout",
     "output_type": "stream",
     "text": [
      "*\n",
      "**\n",
      "***\n",
      "****\n",
      "*****\n",
      "******\n",
      "*******\n"
     ]
    }
   ],
   "source": [
    "n=7\n",
    "for i in range(0,n):\n",
    "    for j in range(0,i+1):\n",
    "        print('*',end ='')\n",
    "    print('\\r') # it goes to the next line "
   ]
  },
  {
   "cell_type": "code",
   "execution_count": 1,
   "id": "243839bf-1e5a-436e-a102-7389a68f32d3",
   "metadata": {},
   "outputs": [
    {
     "name": "stdout",
     "output_type": "stream",
     "text": [
      "*\n",
      "**\n",
      "***\n",
      "****\n",
      "*****\n",
      "******\n",
      "*******\n"
     ]
    }
   ],
   "source": [
    "n=7\n",
    "for i in range(0,n):\n",
    "    for j in range(0,i+1):\n",
    "        print('*',end ='')\n",
    "    print('')"
   ]
  },
  {
   "cell_type": "code",
   "execution_count": 9,
   "id": "f68f671c-aaa2-462f-89bf-8b21f33c3d7b",
   "metadata": {},
   "outputs": [
    {
     "name": "stdin",
     "output_type": "stream",
     "text": [
      " 9\n"
     ]
    },
    {
     "name": "stdout",
     "output_type": "stream",
     "text": [
      "                * \n",
      "              * * * \n",
      "            * * * * * \n",
      "          * * * * * * * \n",
      "        * * * * * * * * * \n",
      "      * * * * * * * * * * * \n",
      "    * * * * * * * * * * * * * \n",
      "  * * * * * * * * * * * * * * * \n",
      "* * * * * * * * * * * * * * * * * \n"
     ]
    }
   ],
   "source": [
    "n = int(input())\n",
    "for i in range(n):\n",
    "    for j in range(n-i-1):\n",
    "        print(' ' , end = ' ')\n",
    "    for k in range(i+1):\n",
    "        print('*', end=' ')\n",
    "    for m in range(i):\n",
    "        print('*', end= ' ')\n",
    "    print()\n",
    "        \n",
    "\n"
   ]
  },
  {
   "cell_type": "code",
   "execution_count": 7,
   "id": "dce5a623-1cb9-4ca1-a1f2-64d62be694b8",
   "metadata": {},
   "outputs": [
    {
     "name": "stdout",
     "output_type": "stream",
     "text": [
      "*/n*/n*/n*/n*/n*/n*/n*/n*/n*/n*/n*/n*/n*/n*/n*/n*/n*/n*/n*/n*/n*/n*/n*/n*/n*/n*/n*/n"
     ]
    }
   ],
   "source": [
    "n=7\n",
    "for i in range(0,n):\n",
    "    for j in range(0,i+1):\n",
    "        print('*',end = /n)"
   ]
  },
  {
   "cell_type": "code",
   "execution_count": 3,
   "id": "9a5faa3b-d371-49aa-8607-0b9ec79b3376",
   "metadata": {},
   "outputs": [
    {
     "name": "stdout",
     "output_type": "stream",
     "text": [
      "1\n",
      "3\n",
      "5\n",
      "7\n",
      "9\n"
     ]
    }
   ],
   "source": [
    "\n",
    "for i in range (1,10,2):\n",
    "    print(i)"
   ]
  },
  {
   "cell_type": "code",
   "execution_count": 5,
   "id": "80facc9b-226e-46e4-820e-a8c5066425f4",
   "metadata": {},
   "outputs": [
    {
     "name": "stdout",
     "output_type": "stream",
     "text": [
      "1\n",
      "6\n",
      "11\n",
      "16\n",
      "21\n"
     ]
    }
   ],
   "source": [
    "for i in range(1,25,5):\n",
    "    print (i)"
   ]
  },
  {
   "cell_type": "code",
   "execution_count": 12,
   "id": "0a860294-b066-441d-b14b-1173a317d474",
   "metadata": {},
   "outputs": [],
   "source": [
    "#loop controls\n",
    "#Break and control \n",
    "fruit_list = ['mango', 'cherry', 'apple', 'papaya', 'banana']"
   ]
  },
  {
   "cell_type": "code",
   "execution_count": 16,
   "id": "1dc9d4ad-7ec2-4f29-b031-8dcd6cac11b2",
   "metadata": {},
   "outputs": [
    {
     "name": "stdout",
     "output_type": "stream",
     "text": [
      "mango\n",
      "cherry\n",
      "the fruit is apple\n"
     ]
    }
   ],
   "source": [
    "# break stops the loop\n",
    "for i in fruit_list:\n",
    "    if i=='apple':\n",
    "        print('the fruit is apple'),\n",
    "        break # it breaks the entire loop\n",
    "    print(i)"
   ]
  },
  {
   "cell_type": "code",
   "execution_count": 17,
   "id": "23c8fe01-424a-4864-865c-91ff515673f2",
   "metadata": {},
   "outputs": [
    {
     "name": "stdout",
     "output_type": "stream",
     "text": [
      "mango\n",
      "cherry\n",
      "the fruit is apple\n",
      "apple\n",
      "papaya\n",
      "banana\n"
     ]
    }
   ],
   "source": [
    "for i in fruit_list:\n",
    "    if i=='apple':\n",
    "        print('the fruit is apple'),\n",
    "        pass # nothing happens\n",
    "    print(i)"
   ]
  },
  {
   "cell_type": "code",
   "execution_count": 18,
   "id": "864e4542-a869-492f-b8f3-1f6262b4cf1a",
   "metadata": {},
   "outputs": [
    {
     "name": "stdout",
     "output_type": "stream",
     "text": [
      "mango\n",
      "cherry\n",
      "the fruit is apple\n",
      "papaya\n",
      "banana\n"
     ]
    }
   ],
   "source": [
    "# continue skips the loop \n",
    "for i in fruit_list:\n",
    "    if i=='apple':\n",
    "        print('the fruit is apple'),\n",
    "        continue # it will just skip the part where it meets the condition apply it and rest loops goes on\n",
    "    print(i)"
   ]
  },
  {
   "cell_type": "code",
   "execution_count": 10,
   "id": "f6ea17ad-2b67-47b9-8300-baaf99ac5dd5",
   "metadata": {},
   "outputs": [],
   "source": [
    "name = 'my name is eesha'"
   ]
  },
  {
   "cell_type": "code",
   "execution_count": 11,
   "id": "770282ae-6448-4d32-ab50-b24dfc36a229",
   "metadata": {},
   "outputs": [
    {
     "data": {
      "text/plain": [
       "'y'"
      ]
     },
     "execution_count": 11,
     "metadata": {},
     "output_type": "execute_result"
    }
   ],
   "source": [
    "name[1]"
   ]
  },
  {
   "cell_type": "code",
   "execution_count": 13,
   "id": "89f218bd-5ba5-4051-8474-60f066b5edc5",
   "metadata": {},
   "outputs": [
    {
     "data": {
      "text/plain": [
       "'y na'"
      ]
     },
     "execution_count": 13,
     "metadata": {},
     "output_type": "execute_result"
    }
   ],
   "source": [
    "name[1:5]"
   ]
  },
  {
   "cell_type": "code",
   "execution_count": 14,
   "id": "58d73d54-3a49-40ae-830b-8141cd040201",
   "metadata": {},
   "outputs": [
    {
     "data": {
      "text/plain": [
       "'ahsee si eman ym'"
      ]
     },
     "execution_count": 14,
     "metadata": {},
     "output_type": "execute_result"
    }
   ],
   "source": [
    "name[::-1]"
   ]
  },
  {
   "cell_type": "code",
   "execution_count": 18,
   "id": "052fd63f-d874-43bf-b698-fde837ee037e",
   "metadata": {},
   "outputs": [
    {
     "data": {
      "text/plain": [
       "'me'"
      ]
     },
     "execution_count": 18,
     "metadata": {},
     "output_type": "execute_result"
    }
   ],
   "source": [
    "name[5:7:1]"
   ]
  },
  {
   "cell_type": "code",
   "execution_count": 20,
   "id": "1bfea86f-6d34-410e-a6e0-bc790e7e4ca0",
   "metadata": {},
   "outputs": [
    {
     "data": {
      "text/plain": [
       "'man ym'"
      ]
     },
     "execution_count": 20,
     "metadata": {},
     "output_type": "execute_result"
    }
   ],
   "source": [
    "name[5::-1]"
   ]
  },
  {
   "cell_type": "code",
   "execution_count": 21,
   "id": "f9425b83-ba7c-4585-8413-0bbd51749015",
   "metadata": {},
   "outputs": [
    {
     "data": {
      "text/plain": [
       "'man '"
      ]
     },
     "execution_count": 21,
     "metadata": {},
     "output_type": "execute_result"
    }
   ],
   "source": [
    "name[5:1:-1]"
   ]
  },
  {
   "cell_type": "code",
   "execution_count": 22,
   "id": "14f484c8-5e50-4830-ba66-919ef31d61b9",
   "metadata": {},
   "outputs": [
    {
     "data": {
      "text/plain": [
       "'ahsee si em'"
      ]
     },
     "execution_count": 22,
     "metadata": {},
     "output_type": "execute_result"
    }
   ],
   "source": [
    "name[:4:-1]\n"
   ]
  },
  {
   "cell_type": "code",
   "execution_count": 23,
   "id": "29e1e2ee-ad59-4973-a93a-216c5714eb02",
   "metadata": {},
   "outputs": [
    {
     "data": {
      "text/plain": [
       "'MY NAME IS EESHA'"
      ]
     },
     "execution_count": 23,
     "metadata": {},
     "output_type": "execute_result"
    }
   ],
   "source": [
    "name.swapcase()"
   ]
  },
  {
   "cell_type": "code",
   "execution_count": 24,
   "id": "62721832-7a4c-4f53-a5c7-c5b0bceff944",
   "metadata": {},
   "outputs": [
    {
     "data": {
      "text/plain": [
       "'My Name Is Eesha'"
      ]
     },
     "execution_count": 24,
     "metadata": {},
     "output_type": "execute_result"
    }
   ],
   "source": [
    "name.title()"
   ]
  },
  {
   "cell_type": "code",
   "execution_count": 25,
   "id": "a6b0a698-c570-45e6-b219-54cc9f0994ca",
   "metadata": {},
   "outputs": [
    {
     "data": {
      "text/plain": [
       "'My name is eesha'"
      ]
     },
     "execution_count": 25,
     "metadata": {},
     "output_type": "execute_result"
    }
   ],
   "source": [
    "name.capitalize()"
   ]
  },
  {
   "cell_type": "code",
   "execution_count": 26,
   "id": "66e6c04c-d8f2-453f-a8ad-69afef410880",
   "metadata": {},
   "outputs": [
    {
     "data": {
      "text/plain": [
       "<reversed at 0x7f0d9437e470>"
      ]
     },
     "execution_count": 26,
     "metadata": {},
     "output_type": "execute_result"
    }
   ],
   "source": [
    "#reversing a string\n",
    "reversed(name)"
   ]
  },
  {
   "cell_type": "code",
   "execution_count": 28,
   "id": "d680d8d0-8e79-4a43-8314-f96c3fbb5b23",
   "metadata": {},
   "outputs": [
    {
     "data": {
      "text/plain": [
       "'a h s e e   s i   e m a n   y m'"
      ]
     },
     "execution_count": 28,
     "metadata": {},
     "output_type": "execute_result"
    }
   ],
   "source": [
    "\" \".join(reversed(name))"
   ]
  },
  {
   "cell_type": "code",
   "execution_count": 29,
   "id": "a0716ced-ccb9-494f-9d62-ff406728800a",
   "metadata": {},
   "outputs": [
    {
     "data": {
      "text/plain": [
       "'REeshaaEeshavEeshaiEeshanEeshadEesharEeshaaEeshan'"
      ]
     },
     "execution_count": 29,
     "metadata": {},
     "output_type": "execute_result"
    }
   ],
   "source": [
    "'Eesha'.join('Ravindran')"
   ]
  },
  {
   "cell_type": "code",
   "execution_count": 30,
   "id": "2c28d3ac-2ffe-44cc-9867-2b285d41f921",
   "metadata": {},
   "outputs": [
    {
     "data": {
      "text/plain": [
       "'A'"
      ]
     },
     "execution_count": 30,
     "metadata": {},
     "output_type": "execute_result"
    }
   ],
   "source": [
    "'Eesh'.join('A')"
   ]
  },
  {
   "cell_type": "code",
   "execution_count": 33,
   "id": "33b46295-badf-4fcf-beb1-bcdc7b868eb1",
   "metadata": {},
   "outputs": [
    {
     "data": {
      "text/plain": [
       "'EshaA'"
      ]
     },
     "execution_count": 33,
     "metadata": {},
     "output_type": "execute_result"
    }
   ],
   "source": [
    "'sha'.join('EA')"
   ]
  },
  {
   "cell_type": "code",
   "execution_count": 34,
   "id": "fb73368a-a67c-41f2-9682-65f973545826",
   "metadata": {},
   "outputs": [
    {
     "data": {
      "text/plain": [
       "'I am Eesha'"
      ]
     },
     "execution_count": 34,
     "metadata": {},
     "output_type": "execute_result"
    }
   ],
   "source": [
    "' am Eesh'.join('Ia')"
   ]
  },
  {
   "cell_type": "code",
   "execution_count": 35,
   "id": "92d0acca-b2e3-40f2-9b69-33291e2c151a",
   "metadata": {},
   "outputs": [
    {
     "data": {
      "text/plain": [
       "'I am Eesha'"
      ]
     },
     "execution_count": 35,
     "metadata": {},
     "output_type": "execute_result"
    }
   ],
   "source": [
    "' am Eesh'.join(reversed('aI'))"
   ]
  },
  {
   "cell_type": "code",
   "execution_count": 36,
   "id": "a571d094-85e2-49e7-84ca-9fec7f979c80",
   "metadata": {},
   "outputs": [
    {
     "data": {
      "text/plain": [
       "['a',\n",
       " 'h',\n",
       " 's',\n",
       " 'e',\n",
       " 'e',\n",
       " ' ',\n",
       " 's',\n",
       " 'i',\n",
       " ' ',\n",
       " 'e',\n",
       " 'm',\n",
       " 'a',\n",
       " 'n',\n",
       " ' ',\n",
       " 'y',\n",
       " 'm']"
      ]
     },
     "execution_count": 36,
     "metadata": {},
     "output_type": "execute_result"
    }
   ],
   "source": [
    "list(reversed(name))"
   ]
  },
  {
   "cell_type": "code",
   "execution_count": 37,
   "id": "34aa76d3-5af5-42bf-bb7d-74ce7197ab15",
   "metadata": {},
   "outputs": [],
   "source": [
    "string_1 = ' Eesha '"
   ]
  },
  {
   "cell_type": "code",
   "execution_count": 38,
   "id": "a4366917-17ef-495b-838a-25d91e73ab09",
   "metadata": {},
   "outputs": [
    {
     "data": {
      "text/plain": [
       "'Eesha'"
      ]
     },
     "execution_count": 38,
     "metadata": {},
     "output_type": "execute_result"
    }
   ],
   "source": [
    "string_1.strip(' ')"
   ]
  },
  {
   "cell_type": "code",
   "execution_count": 39,
   "id": "890341e9-08a1-4fcb-927f-90f70855a8da",
   "metadata": {},
   "outputs": [
    {
     "data": {
      "text/plain": [
       "'Eesha '"
      ]
     },
     "execution_count": 39,
     "metadata": {},
     "output_type": "execute_result"
    }
   ],
   "source": [
    "string_1.lstrip(' ')"
   ]
  },
  {
   "cell_type": "code",
   "execution_count": 40,
   "id": "4161c616-be25-4667-bc73-10703b7d18bd",
   "metadata": {},
   "outputs": [
    {
     "data": {
      "text/plain": [
       "' Eesha'"
      ]
     },
     "execution_count": 40,
     "metadata": {},
     "output_type": "execute_result"
    }
   ],
   "source": [
    "string_1.rstrip(' ')"
   ]
  },
  {
   "cell_type": "code",
   "execution_count": 41,
   "id": "42d9c80e-f479-4a70-a438-98f916830f91",
   "metadata": {},
   "outputs": [
    {
     "data": {
      "text/plain": [
       "' Eesha '"
      ]
     },
     "execution_count": 41,
     "metadata": {},
     "output_type": "execute_result"
    }
   ],
   "source": [
    "string_1.strip('a') \n",
    "\n",
    "\n",
    "# we can only remove spaces "
   ]
  },
  {
   "cell_type": "code",
   "execution_count": 42,
   "id": "7dc00216-e47b-4bce-ab8e-618b472bd115",
   "metadata": {},
   "outputs": [],
   "source": [
    "string_n = 'welcome home'"
   ]
  },
  {
   "cell_type": "code",
   "execution_count": 45,
   "id": "f12cb952-fa98-4a3f-9159-5cb7badb63c4",
   "metadata": {},
   "outputs": [],
   "source": [
    " string = string_n.replace(' ' , ' to our ') #it returns a new copy that is a new string"
   ]
  },
  {
   "cell_type": "code",
   "execution_count": 46,
   "id": "2b423e36-a040-4d23-99d5-29e072ee9261",
   "metadata": {},
   "outputs": [
    {
     "data": {
      "text/plain": [
       "'welcome to our home'"
      ]
     },
     "execution_count": 46,
     "metadata": {},
     "output_type": "execute_result"
    }
   ],
   "source": [
    "string"
   ]
  },
  {
   "cell_type": "code",
   "execution_count": 47,
   "id": "c0574379-e486-401d-bc71-5acf25f9a801",
   "metadata": {},
   "outputs": [
    {
     "data": {
      "text/plain": [
       "'hello   world'"
      ]
     },
     "execution_count": 47,
     "metadata": {},
     "output_type": "execute_result"
    }
   ],
   "source": [
    "'hello \\tworld'.expandtabs()"
   ]
  },
  {
   "cell_type": "code",
   "execution_count": 48,
   "id": "93093155-1c0b-49bc-88d7-7a119603d66d",
   "metadata": {},
   "outputs": [],
   "source": [
    "str_1 = 'welcome to pwskills .Welcome to Dat cience Masters'"
   ]
  },
  {
   "cell_type": "code",
   "execution_count": 53,
   "id": "d634e717-0568-4f02-9382-5fed00222421",
   "metadata": {},
   "outputs": [
    {
     "data": {
      "text/plain": [
       "'wELCOME tO pWSKILLS .wELCOME tO dATA sCIENCE mASTERS'"
      ]
     },
     "execution_count": 53,
     "metadata": {},
     "output_type": "execute_result"
    }
   ],
   "source": [
    "str_1.replace('Dat','Data').replace('cience','Science').title().swapcase()"
   ]
  },
  {
   "cell_type": "code",
   "execution_count": 54,
   "id": "98171a5d-7923-4d2e-b79e-0ca457f9df82",
   "metadata": {},
   "outputs": [
    {
     "data": {
      "text/plain": [
       "False"
      ]
     },
     "execution_count": 54,
     "metadata": {},
     "output_type": "execute_result"
    }
   ],
   "source": [
    "str_1.isupper()"
   ]
  },
  {
   "cell_type": "code",
   "execution_count": 55,
   "id": "fab24d40-be16-4d6b-8ea6-934e3d7350ba",
   "metadata": {},
   "outputs": [
    {
     "data": {
      "text/plain": [
       "'WELCOME TO PWSKILLS .WELCOME TO DAT CIENCE MASTERS'"
      ]
     },
     "execution_count": 55,
     "metadata": {},
     "output_type": "execute_result"
    }
   ],
   "source": [
    "str_1.upper()"
   ]
  },
  {
   "cell_type": "code",
   "execution_count": 56,
   "id": "5ee7f17b-7657-45f3-af46-d56749a3a461",
   "metadata": {},
   "outputs": [
    {
     "data": {
      "text/plain": [
       "False"
      ]
     },
     "execution_count": 56,
     "metadata": {},
     "output_type": "execute_result"
    }
   ],
   "source": [
    "str_1.isupper()"
   ]
  },
  {
   "cell_type": "code",
   "execution_count": 58,
   "id": "444dfc3c-c9ad-4b92-b8d9-57bd66865031",
   "metadata": {},
   "outputs": [
    {
     "name": "stdin",
     "output_type": "stream",
     "text": [
      " he is a male\n"
     ]
    },
    {
     "name": "stdout",
     "output_type": "stream",
     "text": [
      "12\n"
     ]
    }
   ],
   "source": [
    "count = 0\n",
    "str_given = input()\n",
    "n = len(str_given)\n",
    "\n",
    "for i in range(n):\n",
    "    count+=1\n",
    "print(count)"
   ]
  },
  {
   "cell_type": "code",
   "execution_count": 59,
   "id": "a271517b-8019-4d8f-9662-ba19a8fbaae6",
   "metadata": {},
   "outputs": [
    {
     "name": "stdout",
     "output_type": "stream",
     "text": [
      "m\n",
      "y\n",
      " \n",
      "n\n",
      "a\n",
      "m\n",
      "e\n",
      " \n",
      "i\n",
      "s\n",
      " \n",
      "e\n",
      "e\n",
      "s\n",
      "h\n",
      "a\n"
     ]
    }
   ],
   "source": [
    "for i in name:\n",
    "    print(i)"
   ]
  },
  {
   "cell_type": "code",
   "execution_count": 61,
   "id": "182af927-0461-450d-a056-d8c50220c191",
   "metadata": {},
   "outputs": [
    {
     "name": "stdout",
     "output_type": "stream",
     "text": [
      "0 = m\n",
      "1 = y\n",
      "2 =  \n",
      "3 = n\n",
      "4 = a\n",
      "5 = m\n",
      "6 = e\n",
      "7 =  \n",
      "8 = i\n",
      "9 = s\n",
      "10 =  \n",
      "11 = e\n",
      "12 = e\n",
      "13 = s\n",
      "14 = h\n",
      "15 = a\n"
     ]
    }
   ],
   "source": [
    "for i in range(len(name)):\n",
    "    print(i,'=',name[i])"
   ]
  },
  {
   "cell_type": "code",
   "execution_count": 63,
   "id": "07151ec6-ef10-4f12-8018-a46d95b14972",
   "metadata": {},
   "outputs": [
    {
     "name": "stdout",
     "output_type": "stream",
     "text": [
      "15 = a\n",
      "13 = s\n",
      "11 = e\n",
      "9 = s\n",
      "7 =  \n",
      "5 = m\n",
      "3 = n\n",
      "1 = y\n"
     ]
    }
   ],
   "source": [
    "for i in range(len(name)-1,-1,-2):\n",
    "    print(i,'=',name[i])"
   ]
  },
  {
   "cell_type": "code",
   "execution_count": 64,
   "id": "d49a2fce-8b50-4cd6-bfcf-60d7059c9955",
   "metadata": {},
   "outputs": [
    {
     "data": {
      "text/plain": [
       "15"
      ]
     },
     "execution_count": 64,
     "metadata": {},
     "output_type": "execute_result"
    }
   ],
   "source": [
    "len(name)-1"
   ]
  },
  {
   "cell_type": "code",
   "execution_count": 73,
   "id": "65e945f0-2b89-4e2a-970b-1de4e424cbbc",
   "metadata": {},
   "outputs": [
    {
     "name": "stdout",
     "output_type": "stream",
     "text": [
      "6\n"
     ]
    }
   ],
   "source": [
    "count = 0\n",
    "vowels = 'AaEeIiOoUu'\n",
    "for ch in name:\n",
    "        if ch in vowels:\n",
    "            count+=1\n",
    "print(count)"
   ]
  },
  {
   "cell_type": "code",
   "execution_count": 71,
   "id": "a5b85613-1a8e-4e27-8b84-b4151ac62903",
   "metadata": {},
   "outputs": [
    {
     "name": "stdout",
     "output_type": "stream",
     "text": [
      "m is not a vowel\n",
      "y is not a vowel\n",
      "  is not a vowel\n",
      "n is not a vowel\n",
      "a is a vowel\n",
      "m is not a vowel\n",
      "e is a vowel\n",
      "  is not a vowel\n",
      "i is a vowel\n",
      "s is not a vowel\n",
      "  is not a vowel\n",
      "e is a vowel\n",
      "e is a vowel\n",
      "s is not a vowel\n",
      "h is not a vowel\n",
      "a is a vowel\n"
     ]
    }
   ],
   "source": [
    "vowels = 'AaEeIiOoUu'\n",
    "for ch in name:\n",
    "        if ch in vowels:\n",
    "            print( '{} is a vowel'.format(ch))\n",
    "        else:\n",
    "            print( '{} is not a vowel'.format(ch))\n"
   ]
  },
  {
   "cell_type": "code",
   "execution_count": 1,
   "id": "117a8775-6ef6-4cc4-817a-217e57d689bb",
   "metadata": {},
   "outputs": [
    {
     "data": {
      "text/plain": [
       "['E', 'e', 's', 'h', 'a']"
      ]
     },
     "execution_count": 1,
     "metadata": {},
     "output_type": "execute_result"
    }
   ],
   "source": [
    "str_2 = 'Eesha'\n",
    "list(str_2)"
   ]
  },
  {
   "cell_type": "code",
   "execution_count": 2,
   "id": "7fb2a3d8-edfc-4083-a229-9946c89b4756",
   "metadata": {},
   "outputs": [
    {
     "data": {
      "text/plain": [
       "['My', 'name', 'is', 'Eesha']"
      ]
     },
     "execution_count": 2,
     "metadata": {},
     "output_type": "execute_result"
    }
   ],
   "source": [
    "str_3 = 'My name is Eesha'\n",
    "list(str_3.split(' '))"
   ]
  },
  {
   "cell_type": "code",
   "execution_count": 4,
   "id": "22c5b6ee-772c-4693-8626-356c3e9c1826",
   "metadata": {},
   "outputs": [
    {
     "data": {
      "text/plain": [
       "['My', 'name', 'is', 'Eesha']"
      ]
     },
     "execution_count": 4,
     "metadata": {},
     "output_type": "execute_result"
    }
   ],
   "source": [
    "list_1  =str_3.split(' ')\n",
    "list_1"
   ]
  },
  {
   "cell_type": "code",
   "execution_count": 5,
   "id": "a7dd3de0-ee2e-4862-8dd9-6da87ed1068a",
   "metadata": {},
   "outputs": [
    {
     "data": {
      "text/plain": [
       "['name', 'is', 'Eesha']"
      ]
     },
     "execution_count": 5,
     "metadata": {},
     "output_type": "execute_result"
    }
   ],
   "source": [
    "list_1[1:]"
   ]
  },
  {
   "cell_type": "code",
   "execution_count": 11,
   "id": "ff3c14f7-d367-45b8-b9c2-d015213bd1eb",
   "metadata": {},
   "outputs": [
    {
     "data": {
      "text/plain": [
       "['is']"
      ]
     },
     "execution_count": 11,
     "metadata": {},
     "output_type": "execute_result"
    }
   ],
   "source": [
    "list_1[-2:1:-1]"
   ]
  },
  {
   "cell_type": "code",
   "execution_count": 12,
   "id": "3a7018c3-1878-4efa-a8ed-69e91f55d57b",
   "metadata": {},
   "outputs": [
    {
     "data": {
      "text/plain": [
       "['My', 'name', 'is', 'Eesha', 'new element', 3]"
      ]
     },
     "execution_count": 12,
     "metadata": {},
     "output_type": "execute_result"
    }
   ],
   "source": [
    "#concatination operation\n",
    "list_1 +['new element' , 3]"
   ]
  },
  {
   "cell_type": "code",
   "execution_count": 14,
   "id": "4b944a55-d2e0-4be4-9a23-f6153dabd229",
   "metadata": {},
   "outputs": [
    {
     "data": {
      "text/plain": [
       "['My', 'name', 'is', 'Eesha', ['new element', 3]]"
      ]
     },
     "execution_count": 14,
     "metadata": {},
     "output_type": "execute_result"
    }
   ],
   "source": [
    "#multilist\n",
    "list_2 =list_1 + [['new element' , 3]]\n",
    "list_2"
   ]
  },
  {
   "cell_type": "code",
   "execution_count": 18,
   "id": "94b9ed2a-eba7-497d-bf43-37035996aff8",
   "metadata": {},
   "outputs": [
    {
     "data": {
      "text/plain": [
       "[3, 'new element']"
      ]
     },
     "execution_count": 18,
     "metadata": {},
     "output_type": "execute_result"
    }
   ],
   "source": [
    "list_2[-1][-1::-1]"
   ]
  },
  {
   "cell_type": "code",
   "execution_count": 16,
   "id": "f1115ba7-b4d0-4775-b51d-3a2d244f7c5f",
   "metadata": {},
   "outputs": [
    {
     "data": {
      "text/plain": [
       "3"
      ]
     },
     "execution_count": 16,
     "metadata": {},
     "output_type": "execute_result"
    }
   ],
   "source": [
    "list_2[-1][1]"
   ]
  },
  {
   "cell_type": "code",
   "execution_count": 20,
   "id": "4e10a598-4ac5-4526-97cd-24c8701136d9",
   "metadata": {},
   "outputs": [
    {
     "data": {
      "text/plain": [
       "['My', 'name', 'is', 'Eesha', 'My', 'name', 'is', 'Eesha']"
      ]
     },
     "execution_count": 20,
     "metadata": {},
     "output_type": "execute_result"
    }
   ],
   "source": [
    "list_1*2"
   ]
  },
  {
   "cell_type": "code",
   "execution_count": 22,
   "id": "e53a0748-968e-48c5-98c2-d4a118e7fc41",
   "metadata": {},
   "outputs": [
    {
     "name": "stdout",
     "output_type": "stream",
     "text": [
      "name\n"
     ]
    }
   ],
   "source": [
    "print(max(list_1)) \n",
    "# n is the last alphabet is the list"
   ]
  },
  {
   "cell_type": "code",
   "execution_count": 23,
   "id": "c8421628-1af2-403d-a287-b59b628d20b7",
   "metadata": {},
   "outputs": [
    {
     "data": {
      "text/plain": [
       "'Eesha'"
      ]
     },
     "execution_count": 23,
     "metadata": {},
     "output_type": "execute_result"
    }
   ],
   "source": [
    "min(list_1)"
   ]
  },
  {
   "cell_type": "code",
   "execution_count": 24,
   "id": "cf7fa03d-ac90-4a68-b2a1-47633f390085",
   "metadata": {},
   "outputs": [],
   "source": [
    "list_1.append('Ravindran') #it is inpalce operator"
   ]
  },
  {
   "cell_type": "code",
   "execution_count": 25,
   "id": "4d783654-1afa-4a5f-a321-f8c284e66fb0",
   "metadata": {},
   "outputs": [
    {
     "data": {
      "text/plain": [
       "['My', 'name', 'is', 'Eesha', 'Ravindran']"
      ]
     },
     "execution_count": 25,
     "metadata": {},
     "output_type": "execute_result"
    }
   ],
   "source": [
    "list_1"
   ]
  },
  {
   "cell_type": "code",
   "execution_count": 26,
   "id": "deaf825f-e928-452a-bcf8-dea5a56ac40c",
   "metadata": {},
   "outputs": [
    {
     "data": {
      "text/plain": [
       "['My', 'name', 'is', 'Eesha', 'Ravindran', ['I', 'AM', 'FROM', 'India']]"
      ]
     },
     "execution_count": 26,
     "metadata": {},
     "output_type": "execute_result"
    }
   ],
   "source": [
    "list_1.append([ 'I','AM','FROM','India'])\n",
    "list_1"
   ]
  },
  {
   "cell_type": "code",
   "execution_count": 27,
   "id": "87d63ec2-8c4f-4b01-a300-d35fadb8f5a7",
   "metadata": {},
   "outputs": [
    {
     "data": {
      "text/plain": [
       "['I', 'AM', 'FROM', 'India']"
      ]
     },
     "execution_count": 27,
     "metadata": {},
     "output_type": "execute_result"
    }
   ],
   "source": [
    "list_1.pop() # it is a impalce operator "
   ]
  },
  {
   "cell_type": "code",
   "execution_count": 28,
   "id": "d962c179-c788-4302-a302-4e05e8425355",
   "metadata": {},
   "outputs": [
    {
     "data": {
      "text/plain": [
       "['My', 'name', 'is', 'Eesha', 'Ravindran']"
      ]
     },
     "execution_count": 28,
     "metadata": {},
     "output_type": "execute_result"
    }
   ],
   "source": [
    "list_1"
   ]
  },
  {
   "cell_type": "code",
   "execution_count": 31,
   "id": "c399694e-a48f-4f97-a143-48c68846f61d",
   "metadata": {},
   "outputs": [],
   "source": [
    "removed_element =list_1.pop(2)"
   ]
  },
  {
   "cell_type": "code",
   "execution_count": 33,
   "id": "aed29f32-021d-4f8a-b91c-de3120026ea6",
   "metadata": {},
   "outputs": [
    {
     "data": {
      "text/plain": [
       "['My', 'name', 'Ravindran']"
      ]
     },
     "execution_count": 33,
     "metadata": {},
     "output_type": "execute_result"
    }
   ],
   "source": [
    "list_1"
   ]
  },
  {
   "cell_type": "code",
   "execution_count": 32,
   "id": "f19d023e-7b22-4d4e-84db-a5eae9853ca2",
   "metadata": {},
   "outputs": [
    {
     "data": {
      "text/plain": [
       "'Eesha'"
      ]
     },
     "execution_count": 32,
     "metadata": {},
     "output_type": "execute_result"
    }
   ],
   "source": [
    "removed_element"
   ]
  },
  {
   "cell_type": "code",
   "execution_count": null,
   "id": "8f657657-c42c-4dc9-8365-c68df1450894",
   "metadata": {},
   "outputs": [],
   "source": [
    "#sorting and reverse method in list"
   ]
  },
  {
   "cell_type": "code",
   "execution_count": 34,
   "id": "75c59a3b-d23d-4425-ad2e-7fc4766893b3",
   "metadata": {},
   "outputs": [],
   "source": [
    "new_list = ['a','b','c','d','e','f']"
   ]
  },
  {
   "cell_type": "code",
   "execution_count": 42,
   "id": "f7640c74-0db0-4b7e-9066-569e481f87ac",
   "metadata": {},
   "outputs": [],
   "source": [
    "new_list.reverse() # implace operator"
   ]
  },
  {
   "cell_type": "code",
   "execution_count": 43,
   "id": "4ad7a751-0b2a-4ac7-b0a0-2718f9c3f747",
   "metadata": {},
   "outputs": [
    {
     "data": {
      "text/plain": [
       "['i', 'h', 'g', 'f', 'e', 'd', 'c', 'b', 'a']"
      ]
     },
     "execution_count": 43,
     "metadata": {},
     "output_type": "execute_result"
    }
   ],
   "source": [
    "new_list"
   ]
  },
  {
   "cell_type": "code",
   "execution_count": 44,
   "id": "ef9cbed3-6672-487c-8c6f-f7395d78722f",
   "metadata": {},
   "outputs": [],
   "source": [
    "new_list.sort() \n",
    "# impalce operator"
   ]
  },
  {
   "cell_type": "code",
   "execution_count": 45,
   "id": "ff569e1f-23dc-4825-9b91-f323df9db5f7",
   "metadata": {},
   "outputs": [
    {
     "data": {
      "text/plain": [
       "['a', 'b', 'c', 'd', 'e', 'f', 'g', 'h', 'i']"
      ]
     },
     "execution_count": 45,
     "metadata": {},
     "output_type": "execute_result"
    }
   ],
   "source": [
    "new_list"
   ]
  },
  {
   "cell_type": "code",
   "execution_count": null,
   "id": "4115087b-e34d-4134-b062-115f3537456a",
   "metadata": {},
   "outputs": [],
   "source": [
    "#nested list"
   ]
  },
  {
   "cell_type": "code",
   "execution_count": 40,
   "id": "d1b8b253-9bac-4694-8f70-d9616ef46193",
   "metadata": {},
   "outputs": [],
   "source": [
    "new_list.extend(['g','h','i'])"
   ]
  },
  {
   "cell_type": "code",
   "execution_count": 41,
   "id": "5d7459b8-7801-47ab-a605-bd240abde7c0",
   "metadata": {},
   "outputs": [
    {
     "data": {
      "text/plain": [
       "['a', 'b', 'c', 'd', 'e', 'f', 'g', 'h', 'i']"
      ]
     },
     "execution_count": 41,
     "metadata": {},
     "output_type": "execute_result"
    }
   ],
   "source": [
    "new_list"
   ]
  },
  {
   "cell_type": "code",
   "execution_count": 80,
   "id": "3a547795-bab6-494d-93ca-14f29f99487e",
   "metadata": {},
   "outputs": [],
   "source": [
    "list_1 = [1,2,3,4]\n",
    "list_2 = [5,6,7,8]\n",
    "list_3 = [9,10,11,12]\n",
    "matrix = [list_1, list_2,list_3]"
   ]
  },
  {
   "cell_type": "code",
   "execution_count": 47,
   "id": "04798df9-573f-4f74-b555-79fe519643e4",
   "metadata": {},
   "outputs": [
    {
     "data": {
      "text/plain": [
       "[[1, 2, 3, 4], [5, 6, 7, 8], [9, 10, 11, 12]]"
      ]
     },
     "execution_count": 47,
     "metadata": {},
     "output_type": "execute_result"
    }
   ],
   "source": [
    "matrix"
   ]
  },
  {
   "cell_type": "code",
   "execution_count": 48,
   "id": "9b3d4d33-e3be-42c8-99e3-a36957908c1a",
   "metadata": {},
   "outputs": [
    {
     "data": {
      "text/plain": [
       "[7, 8]"
      ]
     },
     "execution_count": 48,
     "metadata": {},
     "output_type": "execute_result"
    }
   ],
   "source": [
    "matrix[1][2:]"
   ]
  },
  {
   "cell_type": "code",
   "execution_count": 49,
   "id": "7cea97cf-82ec-439e-b34c-8485f6d80f84",
   "metadata": {},
   "outputs": [
    {
     "data": {
      "text/plain": [
       "[10, 11, 12]"
      ]
     },
     "execution_count": 49,
     "metadata": {},
     "output_type": "execute_result"
    }
   ],
   "source": [
    "matrix[2][1:]"
   ]
  },
  {
   "cell_type": "code",
   "execution_count": 58,
   "id": "b542073a-71dc-4548-a127-593bcc79899f",
   "metadata": {},
   "outputs": [
    {
     "data": {
      "text/plain": [
       "[0, 1, 2, 3, 4, 5, 6, 7, 8, 9, 10, 11, 12, 13, 14, 15, 16, 17, 18, 19]"
      ]
     },
     "execution_count": 58,
     "metadata": {},
     "output_type": "execute_result"
    }
   ],
   "source": [
    "[i for i in range(20)]"
   ]
  },
  {
   "cell_type": "code",
   "execution_count": 59,
   "id": "a19f5f0c-3b87-487c-911b-fa422cd702ee",
   "metadata": {},
   "outputs": [
    {
     "data": {
      "text/plain": [
       "[0,\n",
       " 'odd',\n",
       " 2,\n",
       " 'odd',\n",
       " 4,\n",
       " 'odd',\n",
       " 6,\n",
       " 'odd',\n",
       " 8,\n",
       " 'odd',\n",
       " 10,\n",
       " 'odd',\n",
       " 12,\n",
       " 'odd',\n",
       " 14,\n",
       " 'odd',\n",
       " 16,\n",
       " 'odd',\n",
       " 18,\n",
       " 'odd']"
      ]
     },
     "execution_count": 59,
     "metadata": {},
     "output_type": "execute_result"
    }
   ],
   "source": [
    "[i if i%2==0 else 'odd' for i in range(0,20)]"
   ]
  },
  {
   "cell_type": "code",
   "execution_count": 61,
   "id": "5f34e824-ccf7-4f28-9431-add723ac7614",
   "metadata": {},
   "outputs": [],
   "source": [
    "lst = [1,2,3,4,5,6,7,8,9]"
   ]
  },
  {
   "cell_type": "code",
   "execution_count": 63,
   "id": "ed0529dc-0d65-4483-9823-c0531c793fb9",
   "metadata": {},
   "outputs": [
    {
     "name": "stdout",
     "output_type": "stream",
     "text": [
      "20\n",
      "25\n"
     ]
    }
   ],
   "source": [
    "even_sum= 0\n",
    "odd_sum= 0\n",
    "\n",
    "for i in lst:\n",
    "    if i%2 ==0:\n",
    "        even_sum +=i\n",
    "    else:\n",
    "        odd_sum +=i\n",
    "print(even_sum)\n",
    "print(odd_sum)"
   ]
  },
  {
   "cell_type": "code",
   "execution_count": 64,
   "id": "dd924e66-6372-409d-978f-6bc56fab449b",
   "metadata": {},
   "outputs": [],
   "source": [
    "even_sum = sum([num for num in lst if num%2 ==0])"
   ]
  },
  {
   "cell_type": "code",
   "execution_count": 65,
   "id": "a48d5ea6-ed4a-452c-945c-b50eb6146140",
   "metadata": {},
   "outputs": [
    {
     "data": {
      "text/plain": [
       "20"
      ]
     },
     "execution_count": 65,
     "metadata": {},
     "output_type": "execute_result"
    }
   ],
   "source": [
    "\n",
    "even_sum"
   ]
  },
  {
   "cell_type": "code",
   "execution_count": 67,
   "id": "a1a41898-c530-49db-bfdd-ee46f6614b38",
   "metadata": {},
   "outputs": [
    {
     "data": {
      "text/plain": [
       "25"
      ]
     },
     "execution_count": 67,
     "metadata": {},
     "output_type": "execute_result"
    }
   ],
   "source": [
    "odd_sum = sum([num for num in lst if num%2 !=0])\n",
    "odd_sum"
   ]
  },
  {
   "cell_type": "code",
   "execution_count": null,
   "id": "62545994-5057-4143-9d1b-c9e453fab14a",
   "metadata": {},
   "outputs": [],
   "source": [
    "lst = [1,2,3,4,5,6,7,8,9]"
   ]
  },
  {
   "cell_type": "code",
   "execution_count": 69,
   "id": "a092b29e-d9e9-4564-bfec-103771715154",
   "metadata": {},
   "outputs": [
    {
     "data": {
      "text/plain": [
       "[1, 4, 9, 16, 25, 36, 49, 64, 81]"
      ]
     },
     "execution_count": 69,
     "metadata": {},
     "output_type": "execute_result"
    }
   ],
   "source": [
    "[i**2 for i in lst]"
   ]
  },
  {
   "cell_type": "code",
   "execution_count": 70,
   "id": "37df8caf-de77-4356-b886-a997dbb6ba07",
   "metadata": {},
   "outputs": [],
   "source": [
    "words = [ 'apple', 'banana', 'cherry', 'date']"
   ]
  },
  {
   "cell_type": "code",
   "execution_count": 73,
   "id": "ae2a5d7b-5776-4df5-8837-25cd1b9b5b81",
   "metadata": {},
   "outputs": [
    {
     "data": {
      "text/plain": [
       "['a', 'b', 'c', 'd']"
      ]
     },
     "execution_count": 73,
     "metadata": {},
     "output_type": "execute_result"
    }
   ],
   "source": [
    "[ i[0] for i in words]"
   ]
  },
  {
   "cell_type": "code",
   "execution_count": 74,
   "id": "46317ac6-cd94-4792-9984-8273886b2f88",
   "metadata": {},
   "outputs": [],
   "source": [
    "temp_c = [0,10,20,30,40,50]"
   ]
  },
  {
   "cell_type": "code",
   "execution_count": 76,
   "id": "3c9349aa-d297-45b9-a9e4-10e295ee6712",
   "metadata": {},
   "outputs": [
    {
     "data": {
      "text/plain": [
       "[32.0, 50.0, 68.0, 86.0, 104.0, 122.0]"
      ]
     },
     "execution_count": 76,
     "metadata": {},
     "output_type": "execute_result"
    }
   ],
   "source": [
    "[(9/5)*i+32 for i in temp_c]"
   ]
  },
  {
   "cell_type": "code",
   "execution_count": 81,
   "id": "32e6ed26-115b-4435-98fa-506b42430237",
   "metadata": {},
   "outputs": [
    {
     "data": {
      "text/plain": [
       "[[1, 2, 3, 4], [5, 6, 7, 8], [9, 10, 11, 12]]"
      ]
     },
     "execution_count": 81,
     "metadata": {},
     "output_type": "execute_result"
    }
   ],
   "source": [
    "matrix"
   ]
  },
  {
   "cell_type": "code",
   "execution_count": 82,
   "id": "4967b16a-6844-40d9-ad24-be5582ea8786",
   "metadata": {},
   "outputs": [],
   "source": [
    "list_1 = matrix\n",
    "\n"
   ]
  },
  {
   "cell_type": "code",
   "execution_count": 86,
   "id": "aaf98505-567f-4c20-9970-425488836989",
   "metadata": {},
   "outputs": [
    {
     "data": {
      "text/plain": [
       "[1, 2, 3, 4, 5, 6, 7, 8, 9, 10, 11, 12]"
      ]
     },
     "execution_count": 86,
     "metadata": {},
     "output_type": "execute_result"
    }
   ],
   "source": [
    "[ num for sublist in list_1 for num in sublist]"
   ]
  },
  {
   "cell_type": "code",
   "execution_count": 1,
   "id": "9f16686c-b0e5-4ae5-9532-e55f6b367b6f",
   "metadata": {},
   "outputs": [],
   "source": [
    "numbers = [1,2,3,4,5,6,7,8,9,10]"
   ]
  },
  {
   "cell_type": "code",
   "execution_count": null,
   "id": "da4e0afb-b3d7-4da4-9e17-054fc4f7783f",
   "metadata": {},
   "outputs": [],
   "source": []
  }
 ],
 "metadata": {
  "kernelspec": {
   "display_name": "Python 3 (ipykernel)",
   "language": "python",
   "name": "python3"
  },
  "language_info": {
   "codemirror_mode": {
    "name": "ipython",
    "version": 3
   },
   "file_extension": ".py",
   "mimetype": "text/x-python",
   "name": "python",
   "nbconvert_exporter": "python",
   "pygments_lexer": "ipython3",
   "version": "3.10.8"
  }
 },
 "nbformat": 4,
 "nbformat_minor": 5
}
