{
 "cells": [
  {
   "cell_type": "code",
   "execution_count": 2,
   "id": "edc600c7-63d3-455d-984f-faf70c51aa11",
   "metadata": {},
   "outputs": [],
   "source": [
    "a =10\n",
    "if a >10:\n",
    "    pass"
   ]
  },
  {
   "cell_type": "code",
   "execution_count": 3,
   "id": "a21ed792-b041-49ed-843b-13ba6a2dd0f4",
   "metadata": {},
   "outputs": [
    {
     "data": {
      "text/plain": [
       "False"
      ]
     },
     "execution_count": 3,
     "metadata": {},
     "output_type": "execute_result"
    }
   ],
   "source": [
    "a > 10"
   ]
  },
  {
   "cell_type": "code",
   "execution_count": 4,
   "id": "e7de4008-228d-4c10-a417-e06c545a5e59",
   "metadata": {},
   "outputs": [],
   "source": [
    "a+=2"
   ]
  },
  {
   "cell_type": "code",
   "execution_count": 5,
   "id": "4e45015d-5e31-4917-a981-dc3e4d784b3c",
   "metadata": {},
   "outputs": [
    {
     "data": {
      "text/plain": [
       "True"
      ]
     },
     "execution_count": 5,
     "metadata": {},
     "output_type": "execute_result"
    }
   ],
   "source": [
    "a > 10"
   ]
  },
  {
   "cell_type": "code",
   "execution_count": null,
   "id": "c58ddb24-80a9-4f25-904f-fb7d3e86f9d2",
   "metadata": {},
   "outputs": [],
   "source": [
    "#if else"
   ]
  },
  {
   "cell_type": "code",
   "execution_count": 10,
   "id": "a29e9ef2-94eb-48ec-a45b-759498a848ed",
   "metadata": {},
   "outputs": [
    {
     "name": "stdout",
     "output_type": "stream",
     "text": [
      "yo\n"
     ]
    }
   ],
   "source": [
    "if a > 15:\n",
    "    print('hey')\n",
    "else:\n",
    "    print('yo')"
   ]
  },
  {
   "cell_type": "code",
   "execution_count": 11,
   "id": "092e711a-95aa-4f23-bb21-634a8cd1a80c",
   "metadata": {},
   "outputs": [],
   "source": [
    "#elif "
   ]
  },
  {
   "cell_type": "code",
   "execution_count": 25,
   "id": "db9c83c3-3e40-45fa-9c18-edbb9de8d2a9",
   "metadata": {},
   "outputs": [
    {
     "name": "stdin",
     "output_type": "stream",
     "text": [
      "enter a value for a 12\n"
     ]
    }
   ],
   "source": [
    "a = int(input('enter a value for a'))\n"
   ]
  },
  {
   "cell_type": "code",
   "execution_count": 26,
   "id": "3f7c18a1-b4ae-4606-975f-6e1c77260cce",
   "metadata": {},
   "outputs": [
    {
     "name": "stdout",
     "output_type": "stream",
     "text": [
      "big\n"
     ]
    }
   ],
   "source": [
    "if a > 10:\n",
    "    print('big')\n",
    "elif a == 10: \n",
    "    print('good')\n",
    "else:\n",
    "    print('small')"
   ]
  },
  {
   "cell_type": "markdown",
   "id": "1c5c60cc-5908-4ebd-b66f-85b2e5b07c4d",
   "metadata": {},
   "source": [
    "#loop"
   ]
  },
  {
   "cell_type": "code",
   "execution_count": 36,
   "id": "6f884293-26b7-457d-aed2-6824eb303325",
   "metadata": {},
   "outputs": [
    {
     "name": "stdout",
     "output_type": "stream",
     "text": [
      "2\n",
      "3\n",
      "4\n"
     ]
    }
   ],
   "source": [
    "n= 10 \n",
    "i =2\n",
    "while i< n :\n",
    "    print(i)\n",
    "    i +=1\n",
    "    if i == 5:\n",
    "        break # break the code after this conditon is satisified \n",
    "else:\n",
    "    print('i has become greater then 10')"
   ]
  },
  {
   "cell_type": "markdown",
   "id": "a191c905-8af5-49fd-a4f1-1a5b4a248bc8",
   "metadata": {},
   "source": [
    "n = 10 \n",
    "i = 2\n"
   ]
  },
  {
   "cell_type": "code",
   "execution_count": 40,
   "id": "baf1ad16-ba17-482f-b74b-b25bdf706e9b",
   "metadata": {},
   "outputs": [
    {
     "name": "stdout",
     "output_type": "stream",
     "text": [
      "3\n",
      "4\n",
      "6\n",
      "7\n",
      "8\n",
      "9\n",
      "10\n",
      "i has become greater then 10\n"
     ]
    }
   ],
   "source": [
    "n= 10 \n",
    "i =2\n",
    "while i< n :\n",
    "   \n",
    "    i +=1\n",
    "    if i == 5:\n",
    "        continue # dont execute anything after this code \n",
    "    print(i)\n",
    "else:\n",
    "    print('i has become greater then 10')"
   ]
  },
  {
   "cell_type": "markdown",
   "id": "0ce62412-6da0-4dd5-84a0-ae184190107a",
   "metadata": {},
   "source": [
    "#for loop"
   ]
  },
  {
   "cell_type": "code",
   "execution_count": 41,
   "id": "421f23f1-0d8c-4dc0-9e71-4437d10bafbf",
   "metadata": {},
   "outputs": [],
   "source": [
    "a = 'time'"
   ]
  },
  {
   "cell_type": "code",
   "execution_count": 44,
   "id": "c5e2245d-2407-4741-adb1-dae20dda8cd8",
   "metadata": {},
   "outputs": [
    {
     "name": "stdout",
     "output_type": "stream",
     "text": [
      "t\n",
      "i\n",
      "m\n",
      "e\n"
     ]
    }
   ],
   "source": [
    "for i in a :\n",
    "    print(i)"
   ]
  },
  {
   "cell_type": "code",
   "execution_count": 45,
   "id": "aea40239-a15c-469e-bf0c-9107a1e11391",
   "metadata": {},
   "outputs": [],
   "source": [
    "i = ['time', 1 ,2,3,4, 4+3j, True]"
   ]
  },
  {
   "cell_type": "code",
   "execution_count": 61,
   "id": "77d1709d-252c-484e-8a09-d7cd4d098726",
   "metadata": {},
   "outputs": [
    {
     "name": "stdout",
     "output_type": "stream",
     "text": [
      "time <class 'str'>\n",
      "1 <class 'int'>\n",
      "2 <class 'int'>\n",
      "3 <class 'int'>\n",
      "4 <class 'int'>\n",
      "not a common class\n",
      "True <class 'bool'>\n",
      "for loop os over\n"
     ]
    }
   ],
   "source": [
    "for j in i:\n",
    "    if isinstance (j,complex ): # isinstance is used to check type of j\n",
    "        print('not a common class')\n",
    "    else:\n",
    "        print(j,type(j))\n",
    "         \n",
    "else:\n",
    "    print('for loop os over')"
   ]
  },
  {
   "cell_type": "code",
   "execution_count": null,
   "id": "64760f0c-a929-427c-a006-e18a9ece024a",
   "metadata": {},
   "outputs": [],
   "source": []
  }
 ],
 "metadata": {
  "kernelspec": {
   "display_name": "Python 3 (ipykernel)",
   "language": "python",
   "name": "python3"
  },
  "language_info": {
   "codemirror_mode": {
    "name": "ipython",
    "version": 3
   },
   "file_extension": ".py",
   "mimetype": "text/x-python",
   "name": "python",
   "nbconvert_exporter": "python",
   "pygments_lexer": "ipython3",
   "version": "3.10.8"
  }
 },
 "nbformat": 4,
 "nbformat_minor": 5
}
