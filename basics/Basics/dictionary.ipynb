{
 "cells": [
  {
   "cell_type": "code",
   "execution_count": 1,
   "id": "24a730b1-36ad-40ba-97f3-82a17d807271",
   "metadata": {},
   "outputs": [],
   "source": [
    "d = {}"
   ]
  },
  {
   "cell_type": "code",
   "execution_count": 2,
   "id": "aa3eefd7-e0a2-492c-aba6-02c82461abb3",
   "metadata": {},
   "outputs": [
    {
     "data": {
      "text/plain": [
       "dict"
      ]
     },
     "execution_count": 2,
     "metadata": {},
     "output_type": "execute_result"
    }
   ],
   "source": [
    "type(d)"
   ]
  },
  {
   "cell_type": "code",
   "execution_count": 3,
   "id": "e6ea76e7-cb85-4ed4-a1a1-12c5637bb0f1",
   "metadata": {},
   "outputs": [],
   "source": [
    "d = { 'name' :'Eesha' , 'DOB':'17/12/1994'}"
   ]
  },
  {
   "cell_type": "code",
   "execution_count": 4,
   "id": "429fcd1c-bf9f-45ed-ba98-48fdea6a177d",
   "metadata": {},
   "outputs": [
    {
     "data": {
      "text/plain": [
       "'Eesha'"
      ]
     },
     "execution_count": 4,
     "metadata": {},
     "output_type": "execute_result"
    }
   ],
   "source": [
    "d['name']"
   ]
  },
  {
   "cell_type": "code",
   "execution_count": 5,
   "id": "69fddb2c-d398-4106-baaf-00251c77fc24",
   "metadata": {},
   "outputs": [],
   "source": [
    "d1= { 'name':'Eesha', 'name':'Eesha Ravindran'}"
   ]
  },
  {
   "cell_type": "code",
   "execution_count": 6,
   "id": "4e6c6833-e03b-4ce7-bc7c-5794f0eb2dda",
   "metadata": {},
   "outputs": [
    {
     "data": {
      "text/plain": [
       "{'name': 'Eesha Ravindran'}"
      ]
     },
     "execution_count": 6,
     "metadata": {},
     "output_type": "execute_result"
    }
   ],
   "source": [
    "d1"
   ]
  },
  {
   "cell_type": "code",
   "execution_count": 7,
   "id": "30911a8a-0023-4dea-bc39-13acc726781d",
   "metadata": {},
   "outputs": [],
   "source": [
    "d3 = { 123 : 'abc'}"
   ]
  },
  {
   "cell_type": "markdown",
   "id": "1d44e1ac-f010-440a-a6d8-2e6cc29c0ff5",
   "metadata": {},
   "source": [
    "#key can be either a tring , numeric value , boolien value, tupels but not special character, list,set, dictionary"
   ]
  },
  {
   "cell_type": "markdown",
   "id": "51f01957-a345-4dc9-aca9-b963f1c21eb8",
   "metadata": {},
   "source": [
    "#values can be list or any thing no limitations when it comes to values."
   ]
  },
  {
   "cell_type": "code",
   "execution_count": 52,
   "id": "36d58820-c36d-43d6-80f3-6aecbecacc68",
   "metadata": {},
   "outputs": [],
   "source": [
    "d['place'] ='Evry'"
   ]
  },
  {
   "cell_type": "code",
   "execution_count": 53,
   "id": "80d5afbf-5ac5-4661-b534-f8868bc8b3d0",
   "metadata": {},
   "outputs": [
    {
     "data": {
      "text/plain": [
       "{'name': 'Eesha', 'Education': ['EEE', 'MIM'], 'place': 'Evry'}"
      ]
     },
     "execution_count": 53,
     "metadata": {},
     "output_type": "execute_result"
    }
   ],
   "source": [
    "d"
   ]
  },
  {
   "cell_type": "code",
   "execution_count": 54,
   "id": "79e28b08-c147-4c3e-984a-3f4a7333b081",
   "metadata": {},
   "outputs": [],
   "source": [
    "d['Education'] = ['EEE', 'MIM']"
   ]
  },
  {
   "cell_type": "code",
   "execution_count": 55,
   "id": "0d88ccf1-f8b4-4fc8-914e-197eca4e4a3f",
   "metadata": {},
   "outputs": [
    {
     "data": {
      "text/plain": [
       "{'name': 'Eesha', 'Education': ['EEE', 'MIM'], 'place': 'Evry'}"
      ]
     },
     "execution_count": 55,
     "metadata": {},
     "output_type": "execute_result"
    }
   ],
   "source": [
    "d"
   ]
  },
  {
   "cell_type": "code",
   "execution_count": 56,
   "id": "72f00fa3-cbb2-4f79-8c39-83d8b2167ce1",
   "metadata": {},
   "outputs": [],
   "source": [
    "d['DOB']=(17,12,1994)"
   ]
  },
  {
   "cell_type": "code",
   "execution_count": 57,
   "id": "6747b4bc-1aee-4195-97af-b25351d9ab32",
   "metadata": {},
   "outputs": [
    {
     "data": {
      "text/plain": [
       "{'name': 'Eesha',\n",
       " 'Education': ['EEE', 'MIM'],\n",
       " 'place': 'Evry',\n",
       " 'DOB': (17, 12, 1994)}"
      ]
     },
     "execution_count": 57,
     "metadata": {},
     "output_type": "execute_result"
    }
   ],
   "source": [
    "d"
   ]
  },
  {
   "cell_type": "code",
   "execution_count": 58,
   "id": "4bfaaba2-505b-468f-8b06-6aa450d3ac32",
   "metadata": {},
   "outputs": [
    {
     "data": {
      "text/plain": [
       "'EESHA'"
      ]
     },
     "execution_count": 58,
     "metadata": {},
     "output_type": "execute_result"
    }
   ],
   "source": [
    "d['name'].upper()"
   ]
  },
  {
   "cell_type": "code",
   "execution_count": 59,
   "id": "d5ac78b1-426e-4564-8b60-854b00b44083",
   "metadata": {},
   "outputs": [],
   "source": [
    "profile = { 'Personal Info': d ,'job preferences':['Data Scientitst','AI developer','Data Ana;yst']}"
   ]
  },
  {
   "cell_type": "code",
   "execution_count": 60,
   "id": "a3a2c553-6964-4e4c-afa3-33521469b7bc",
   "metadata": {},
   "outputs": [
    {
     "data": {
      "text/plain": [
       "{'name': 'Eesha',\n",
       " 'Education': ['EEE', 'MIM'],\n",
       " 'place': 'Evry',\n",
       " 'DOB': (17, 12, 1994)}"
      ]
     },
     "execution_count": 60,
     "metadata": {},
     "output_type": "execute_result"
    }
   ],
   "source": [
    "profile['Personal Info']"
   ]
  },
  {
   "cell_type": "code",
   "execution_count": 61,
   "id": "00c506c6-95e4-467a-8e9a-744846db2ccc",
   "metadata": {},
   "outputs": [
    {
     "data": {
      "text/plain": [
       "'Eesha'"
      ]
     },
     "execution_count": 61,
     "metadata": {},
     "output_type": "execute_result"
    }
   ],
   "source": [
    "profile['Personal Info']['name']"
   ]
  },
  {
   "cell_type": "code",
   "execution_count": 62,
   "id": "6aa07a27-1005-4996-ae16-a3bdf7914e8d",
   "metadata": {},
   "outputs": [],
   "source": [
    "del d['place']"
   ]
  },
  {
   "cell_type": "code",
   "execution_count": 63,
   "id": "8b9b640e-13b7-4847-9f12-9d1b7b79215b",
   "metadata": {},
   "outputs": [
    {
     "data": {
      "text/plain": [
       "{'name': 'Eesha', 'Education': ['EEE', 'MIM'], 'DOB': (17, 12, 1994)}"
      ]
     },
     "execution_count": 63,
     "metadata": {},
     "output_type": "execute_result"
    }
   ],
   "source": [
    "d"
   ]
  },
  {
   "cell_type": "code",
   "execution_count": 64,
   "id": "48df3d87-b005-4bbd-9d68-9f37f943708b",
   "metadata": {},
   "outputs": [
    {
     "data": {
      "text/plain": [
       "dict_keys(['name', 'Education', 'DOB'])"
      ]
     },
     "execution_count": 64,
     "metadata": {},
     "output_type": "execute_result"
    }
   ],
   "source": [
    "d.keys()"
   ]
  },
  {
   "cell_type": "code",
   "execution_count": 65,
   "id": "d313231e-d851-4161-b3a2-18052d431f1d",
   "metadata": {},
   "outputs": [
    {
     "data": {
      "text/plain": [
       "dict_keys(['Personal Info', 'job preferences'])"
      ]
     },
     "execution_count": 65,
     "metadata": {},
     "output_type": "execute_result"
    }
   ],
   "source": [
    "profile.keys()"
   ]
  },
  {
   "cell_type": "code",
   "execution_count": 66,
   "id": "d3deef64-c1b9-4a0f-85ed-f6f5d0c41dc7",
   "metadata": {},
   "outputs": [
    {
     "data": {
      "text/plain": [
       "dict_values([{'name': 'Eesha', 'Education': ['EEE', 'MIM'], 'DOB': (17, 12, 1994)}, ['Data Scientitst', 'AI developer', 'Data Ana;yst']])"
      ]
     },
     "execution_count": 66,
     "metadata": {},
     "output_type": "execute_result"
    }
   ],
   "source": [
    "profile.values()"
   ]
  },
  {
   "cell_type": "code",
   "execution_count": 67,
   "id": "24683fc1-9de7-4a3a-bf1a-766e224dd102",
   "metadata": {},
   "outputs": [
    {
     "data": {
      "text/plain": [
       "[{'name': 'Eesha', 'Education': ['EEE', 'MIM'], 'DOB': (17, 12, 1994)},\n",
       " ['Data Scientitst', 'AI developer', 'Data Ana;yst']]"
      ]
     },
     "execution_count": 67,
     "metadata": {},
     "output_type": "execute_result"
    }
   ],
   "source": [
    "list(profile.values())"
   ]
  },
  {
   "cell_type": "code",
   "execution_count": 68,
   "id": "e2edcb41-251e-4727-b6a4-3306f70bced2",
   "metadata": {},
   "outputs": [
    {
     "data": {
      "text/plain": [
       "['Personal Info', 'job preferences']"
      ]
     },
     "execution_count": 68,
     "metadata": {},
     "output_type": "execute_result"
    }
   ],
   "source": [
    "list(profile.keys())"
   ]
  },
  {
   "cell_type": "code",
   "execution_count": 69,
   "id": "36af91de-9943-43ee-bb2e-f8b83f182c24",
   "metadata": {},
   "outputs": [
    {
     "data": {
      "text/plain": [
       "dict_items([('Personal Info', {'name': 'Eesha', 'Education': ['EEE', 'MIM'], 'DOB': (17, 12, 1994)}), ('job preferences', ['Data Scientitst', 'AI developer', 'Data Ana;yst'])])"
      ]
     },
     "execution_count": 69,
     "metadata": {},
     "output_type": "execute_result"
    }
   ],
   "source": [
    "profile.items()"
   ]
  },
  {
   "cell_type": "code",
   "execution_count": 70,
   "id": "45e54846-2c43-4ec8-abd1-2ff7fdfa6709",
   "metadata": {},
   "outputs": [
    {
     "data": {
      "text/plain": [
       "[('Personal Info',\n",
       "  {'name': 'Eesha', 'Education': ['EEE', 'MIM'], 'DOB': (17, 12, 1994)}),\n",
       " ('job preferences', ['Data Scientitst', 'AI developer', 'Data Ana;yst'])]"
      ]
     },
     "execution_count": 70,
     "metadata": {},
     "output_type": "execute_result"
    }
   ],
   "source": [
    "list(profile.items())"
   ]
  },
  {
   "cell_type": "code",
   "execution_count": 71,
   "id": "0ba0ab53-a67c-404a-87ed-7277b28b75fc",
   "metadata": {},
   "outputs": [],
   "source": [
    "t1 = profile.copy()"
   ]
  },
  {
   "cell_type": "code",
   "execution_count": 72,
   "id": "77ed71e0-4a09-47af-be1f-8102f6ab8c7a",
   "metadata": {},
   "outputs": [
    {
     "data": {
      "text/plain": [
       "{'Personal Info': {'name': 'Eesha',\n",
       "  'Education': ['EEE', 'MIM'],\n",
       "  'DOB': (17, 12, 1994)},\n",
       " 'job preferences': ['Data Scientitst', 'AI developer', 'Data Ana;yst']}"
      ]
     },
     "execution_count": 72,
     "metadata": {},
     "output_type": "execute_result"
    }
   ],
   "source": [
    "t1"
   ]
  },
  {
   "cell_type": "code",
   "execution_count": 73,
   "id": "8f57ac03-ad1c-4fcf-9318-60cf943446c3",
   "metadata": {},
   "outputs": [],
   "source": [
    "t2 = profile"
   ]
  },
  {
   "cell_type": "code",
   "execution_count": 74,
   "id": "fe4f06f3-fe15-4109-a591-f4f7cb31f571",
   "metadata": {},
   "outputs": [],
   "source": [
    "del profile['Personal Info'][\n",
    "    'DOB']"
   ]
  },
  {
   "cell_type": "code",
   "execution_count": 75,
   "id": "8c6bc6ec-3a89-4eaa-8276-0d36a3fa4c45",
   "metadata": {},
   "outputs": [
    {
     "data": {
      "text/plain": [
       "{'Personal Info': {'name': 'Eesha', 'Education': ['EEE', 'MIM']},\n",
       " 'job preferences': ['Data Scientitst', 'AI developer', 'Data Ana;yst']}"
      ]
     },
     "execution_count": 75,
     "metadata": {},
     "output_type": "execute_result"
    }
   ],
   "source": [
    "t1"
   ]
  },
  {
   "cell_type": "code",
   "execution_count": 76,
   "id": "d8ac0695-b0d2-476c-8668-ddbc88229796",
   "metadata": {},
   "outputs": [
    {
     "data": {
      "text/plain": [
       "{'Personal Info': {'name': 'Eesha', 'Education': ['EEE', 'MIM']},\n",
       " 'job preferences': ['Data Scientitst', 'AI developer', 'Data Ana;yst']}"
      ]
     },
     "execution_count": 76,
     "metadata": {},
     "output_type": "execute_result"
    }
   ],
   "source": [
    "t2"
   ]
  },
  {
   "cell_type": "code",
   "execution_count": 78,
   "id": "494799ec-a423-41bc-9b10-ec081a2abc9d",
   "metadata": {},
   "outputs": [
    {
     "data": {
      "text/plain": [
       "['Data Scientitst', 'AI developer', 'Data Ana;yst']"
      ]
     },
     "execution_count": 78,
     "metadata": {},
     "output_type": "execute_result"
    }
   ],
   "source": [
    "t2.pop('job preferences')"
   ]
  },
  {
   "cell_type": "code",
   "execution_count": 79,
   "id": "48b0dc91-c6e7-4cea-831e-f5b5731257f8",
   "metadata": {},
   "outputs": [
    {
     "data": {
      "text/plain": [
       "{'Personal Info': {'name': 'Eesha', 'Education': ['EEE', 'MIM']}}"
      ]
     },
     "execution_count": 79,
     "metadata": {},
     "output_type": "execute_result"
    }
   ],
   "source": [
    "t2"
   ]
  },
  {
   "cell_type": "code",
   "execution_count": 82,
   "id": "f1e242cf-cab3-49ef-8cdd-ce993852f894",
   "metadata": {},
   "outputs": [
    {
     "data": {
      "text/plain": [
       "{1: ('a', 'b', 'c'), 2: ('a', 'b', 'c'), 3: ('a', 'b', 'c')}"
      ]
     },
     "execution_count": 82,
     "metadata": {},
     "output_type": "execute_result"
    }
   ],
   "source": [
    "d.fromkeys((1,2,3) ,( 'a','b','c'))"
   ]
  },
  {
   "cell_type": "code",
   "execution_count": 83,
   "id": "a17788f7-3b26-4fc2-b9cc-b95e707a50cd",
   "metadata": {},
   "outputs": [
    {
     "data": {
      "text/plain": [
       "{'name': 'Eesha', 'Education': ['EEE', 'MIM']}"
      ]
     },
     "execution_count": 83,
     "metadata": {},
     "output_type": "execute_result"
    }
   ],
   "source": [
    "d"
   ]
  },
  {
   "cell_type": "code",
   "execution_count": 84,
   "id": "85a916a2-854b-4f4d-970f-9c0f4c3a5979",
   "metadata": {},
   "outputs": [],
   "source": [
    "t1.update(d)"
   ]
  },
  {
   "cell_type": "code",
   "execution_count": 85,
   "id": "777ecd99-755f-45e3-9f89-90ac9c281fcf",
   "metadata": {},
   "outputs": [
    {
     "data": {
      "text/plain": [
       "{'Personal Info': {'name': 'Eesha', 'Education': ['EEE', 'MIM']},\n",
       " 'job preferences': ['Data Scientitst', 'AI developer', 'Data Ana;yst'],\n",
       " 'name': 'Eesha',\n",
       " 'Education': ['EEE', 'MIM']}"
      ]
     },
     "execution_count": 85,
     "metadata": {},
     "output_type": "execute_result"
    }
   ],
   "source": [
    "t1"
   ]
  },
  {
   "cell_type": "code",
   "execution_count": 86,
   "id": "8824bdd2-030a-4855-858c-09850310b5b4",
   "metadata": {},
   "outputs": [
    {
     "data": {
      "text/plain": [
       "'Eesha'"
      ]
     },
     "execution_count": 86,
     "metadata": {},
     "output_type": "execute_result"
    }
   ],
   "source": [
    "t1.get('name')"
   ]
  },
  {
   "cell_type": "markdown",
   "id": "d852d9dc-e27c-4eb3-96d0-1a4ab8b853b2",
   "metadata": {},
   "source": [
    "#Dictonary Comprehension"
   ]
  },
  {
   "cell_type": "code",
   "execution_count": 88,
   "id": "72bfca9a-2968-4047-b2f4-26be6565178b",
   "metadata": {},
   "outputs": [
    {
     "data": {
      "text/plain": [
       "{1: 1, 2: 4, 3: 9, 4: 16, 5: 25, 6: 36, 7: 49, 8: 64, 9: 81, 10: 100}"
      ]
     },
     "execution_count": 88,
     "metadata": {},
     "output_type": "execute_result"
    }
   ],
   "source": [
    "{ i: i**2 for i in range (1,11)}"
   ]
  },
  {
   "cell_type": "code",
   "execution_count": 89,
   "id": "32717af1-ae0e-4ee9-84d6-0f21bc5df9ee",
   "metadata": {},
   "outputs": [
    {
     "data": {
      "text/plain": [
       "{1: 11, 2: 12, 3: 13, 4: 14, 5: 15, 6: 16, 7: 17, 8: 18, 9: 19, 10: 20}"
      ]
     },
     "execution_count": 89,
     "metadata": {},
     "output_type": "execute_result"
    }
   ],
   "source": [
    "{i :i+10 for i in range(1,11)}"
   ]
  },
  {
   "cell_type": "code",
   "execution_count": 97,
   "id": "a92ea888-430c-4fe2-8d3e-c4716684757a",
   "metadata": {},
   "outputs": [],
   "source": [
    "import math\n",
    "t3 ={ i : math.log10(i)\n",
    " for i in range(1,11)}"
   ]
  },
  {
   "cell_type": "code",
   "execution_count": 96,
   "id": "fd3963c9-2544-4bf1-a240-ec7520dafd67",
   "metadata": {},
   "outputs": [
    {
     "data": {
      "text/plain": [
       "dict_keys(['Personal Info', 'job preferences', 'name', 'Education'])"
      ]
     },
     "execution_count": 96,
     "metadata": {},
     "output_type": "execute_result"
    }
   ],
   "source": [
    "t1.keys()"
   ]
  },
  {
   "cell_type": "code",
   "execution_count": 98,
   "id": "19028b65-486d-40ab-92c7-cdaddf94b685",
   "metadata": {},
   "outputs": [
    {
     "data": {
      "text/plain": [
       "{1: 0.0,\n",
       " 2: 0.3010299956639812,\n",
       " 3: 0.47712125471966244,\n",
       " 4: 0.6020599913279624,\n",
       " 5: 0.6989700043360189,\n",
       " 6: 0.7781512503836436,\n",
       " 7: 0.8450980400142568,\n",
       " 8: 0.9030899869919435,\n",
       " 9: 0.9542425094393249,\n",
       " 10: 1.0}"
      ]
     },
     "execution_count": 98,
     "metadata": {},
     "output_type": "execute_result"
    }
   ],
   "source": [
    "t3"
   ]
  },
  {
   "cell_type": "code",
   "execution_count": 99,
   "id": "3975e9b5-df5e-44d2-b8a0-8ee53bd48421",
   "metadata": {},
   "outputs": [
    {
     "name": "stdout",
     "output_type": "stream",
     "text": [
      "0.3010299956639812\n",
      "0.6020599913279624\n",
      "0.7781512503836436\n",
      "0.9030899869919435\n",
      "1.0\n"
     ]
    }
   ],
   "source": [
    "for i in t3.keys():\n",
    "    if i % 2 == 0:\n",
    "        print(t3[i])"
   ]
  },
  {
   "cell_type": "code",
   "execution_count": null,
   "id": "0d6805c7-ba90-4d73-90d0-e6e9f0a7b127",
   "metadata": {},
   "outputs": [],
   "source": []
  }
 ],
 "metadata": {
  "kernelspec": {
   "display_name": "Python 3 (ipykernel)",
   "language": "python",
   "name": "python3"
  },
  "language_info": {
   "codemirror_mode": {
    "name": "ipython",
    "version": 3
   },
   "file_extension": ".py",
   "mimetype": "text/x-python",
   "name": "python",
   "nbconvert_exporter": "python",
   "pygments_lexer": "ipython3",
   "version": "3.10.8"
  }
 },
 "nbformat": 4,
 "nbformat_minor": 5
}
